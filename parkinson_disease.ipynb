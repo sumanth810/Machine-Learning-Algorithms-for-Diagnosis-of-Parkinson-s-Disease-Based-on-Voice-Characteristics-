{
 "cells": [
  {
   "cell_type": "code",
   "execution_count": 1,
   "metadata": {
    "id": "PyG1ORk2OONE"
   },
   "outputs": [],
   "source": [
    "import numpy as np\n",
    "import pandas as pd\n",
    "import matplotlib.pyplot as plt\n",
    "import seaborn as sns\n",
    "from sklearn.model_selection import train_test_split\n",
    "from sklearn.linear_model import LogisticRegression\n",
    "from sklearn.svm import SVC\n",
    "from sklearn.preprocessing import StandardScaler\n",
    "from sklearn.neighbors  import KNeighborsClassifier\n",
    "from sklearn.model_selection import GridSearchCV,cross_val_score\n",
    "from sklearn.metrics import classification_report,confusion_matrix\n",
    "from pandas.plotting import scatter_matrix\n",
    "from sklearn.ensemble import GradientBoostingClassifier\n",
    "from sklearn.ensemble import RandomForestClassifier\n",
    "from sklearn.metrics import roc_curve, auc"
   ]
  },
  {
   "cell_type": "code",
   "execution_count": 2,
   "metadata": {
    "colab": {
     "base_uri": "https://localhost:8080/"
    },
    "id": "PRHfDNR6VxXq",
    "outputId": "2072e5fd-ba41-4397-d764-005c96845300"
   },
   "outputs": [
    {
     "name": "stdout",
     "output_type": "stream",
     "text": [
      "Drive already mounted at /content/drive; to attempt to forcibly remount, call drive.mount(\"/content/drive\", force_remount=True).\n"
     ]
    }
   ],
   "source": [
    "from google.colab import drive\n",
    "drive.mount('/content/drive')"
   ]
  },
  {
   "cell_type": "code",
   "execution_count": 3,
   "metadata": {
    "colab": {
     "base_uri": "https://localhost:8080/"
    },
    "id": "jGJFSGLhTVRP",
    "outputId": "0f33b91c-bbc2-4d64-dd40-75dda883c1cc"
   },
   "outputs": [
    {
     "name": "stdout",
     "output_type": "stream",
     "text": [
      "   Unnamed: 0     f1        f2     f3     f4     f5      f6     f7     f8  \\\n",
      "0           1  0.728  0.000038  0.353  0.376  1.059   5.864  0.642  2.058   \n",
      "1           2  2.502  0.000123  1.156  1.634  3.469  13.513  1.273  5.263   \n",
      "2           3  3.509  0.000167  1.715  1.539  5.145   9.112  1.040  3.102   \n",
      "3           4  2.470  0.000126  1.358  1.341  4.075  10.696  1.256  5.262   \n",
      "4           5  1.583  0.000082  0.768  0.864  2.303   9.057  1.070  3.794   \n",
      "\n",
      "      f9  ...      f15      f16     f17      f18      f19    f20    f21  \\\n",
      "0  3.180  ...  195.252  193.289  14.773  159.515  234.505  170.0  169.0   \n",
      "1  8.771  ...  201.997  203.471  10.853  182.713  220.230   94.0   92.0   \n",
      "2  4.927  ...  211.887  208.440  11.499  182.821  225.162  117.0  114.0   \n",
      "3  7.076  ...  195.952  195.222   4.692  186.593  202.812   74.0   73.0   \n",
      "4  5.158  ...  195.535  192.316   7.512  177.299  200.638   85.0   84.0   \n",
      "\n",
      "        f22       f23  Class  \n",
      "0  0.005181  0.000403      1  \n",
      "1  0.004910  0.000320      1  \n",
      "2  0.004757  0.000380      1  \n",
      "3  0.005118  0.000187      1  \n",
      "4  0.005199  0.000245      1  \n",
      "\n",
      "[5 rows x 25 columns]\n"
     ]
    }
   ],
   "source": [
    "new_data = pd.read_csv(\"/content/drive/MyDrive/ML_Parkinson_son_dataset.csv\")\n",
    "print(new_data.head())"
   ]
  },
  {
   "cell_type": "code",
   "execution_count": 4,
   "metadata": {
    "colab": {
     "base_uri": "https://localhost:8080/",
     "height": 314
    },
    "id": "AxsCo-YQW6Q_",
    "outputId": "c629f214-eebd-4fd2-f6c1-36afdb5e2862"
   },
   "outputs": [
    {
     "data": {
      "text/html": [
       "\n",
       "  <div id=\"df-39ea43bf-3641-4c9f-8337-2639934bb6ce\">\n",
       "    <div class=\"colab-df-container\">\n",
       "      <div>\n",
       "<style scoped>\n",
       "    .dataframe tbody tr th:only-of-type {\n",
       "        vertical-align: middle;\n",
       "    }\n",
       "\n",
       "    .dataframe tbody tr th {\n",
       "        vertical-align: top;\n",
       "    }\n",
       "\n",
       "    .dataframe thead th {\n",
       "        text-align: right;\n",
       "    }\n",
       "</style>\n",
       "<table border=\"1\" class=\"dataframe\">\n",
       "  <thead>\n",
       "    <tr style=\"text-align: right;\">\n",
       "      <th></th>\n",
       "      <th>Unnamed: 0</th>\n",
       "      <th>f1</th>\n",
       "      <th>f2</th>\n",
       "      <th>f3</th>\n",
       "      <th>f4</th>\n",
       "      <th>f5</th>\n",
       "      <th>f6</th>\n",
       "      <th>f7</th>\n",
       "      <th>f8</th>\n",
       "      <th>f9</th>\n",
       "      <th>...</th>\n",
       "      <th>f15</th>\n",
       "      <th>f16</th>\n",
       "      <th>f17</th>\n",
       "      <th>f18</th>\n",
       "      <th>f19</th>\n",
       "      <th>f20</th>\n",
       "      <th>f21</th>\n",
       "      <th>f22</th>\n",
       "      <th>f23</th>\n",
       "      <th>Class</th>\n",
       "    </tr>\n",
       "  </thead>\n",
       "  <tbody>\n",
       "    <tr>\n",
       "      <th>0</th>\n",
       "      <td>1</td>\n",
       "      <td>0.728</td>\n",
       "      <td>0.000038</td>\n",
       "      <td>0.353</td>\n",
       "      <td>0.376</td>\n",
       "      <td>1.059</td>\n",
       "      <td>5.864</td>\n",
       "      <td>0.642</td>\n",
       "      <td>2.058</td>\n",
       "      <td>3.180</td>\n",
       "      <td>...</td>\n",
       "      <td>195.252</td>\n",
       "      <td>193.289</td>\n",
       "      <td>14.773</td>\n",
       "      <td>159.515</td>\n",
       "      <td>234.505</td>\n",
       "      <td>170.0</td>\n",
       "      <td>169.0</td>\n",
       "      <td>0.005181</td>\n",
       "      <td>0.000403</td>\n",
       "      <td>1</td>\n",
       "    </tr>\n",
       "    <tr>\n",
       "      <th>1</th>\n",
       "      <td>2</td>\n",
       "      <td>2.502</td>\n",
       "      <td>0.000123</td>\n",
       "      <td>1.156</td>\n",
       "      <td>1.634</td>\n",
       "      <td>3.469</td>\n",
       "      <td>13.513</td>\n",
       "      <td>1.273</td>\n",
       "      <td>5.263</td>\n",
       "      <td>8.771</td>\n",
       "      <td>...</td>\n",
       "      <td>201.997</td>\n",
       "      <td>203.471</td>\n",
       "      <td>10.853</td>\n",
       "      <td>182.713</td>\n",
       "      <td>220.230</td>\n",
       "      <td>94.0</td>\n",
       "      <td>92.0</td>\n",
       "      <td>0.004910</td>\n",
       "      <td>0.000320</td>\n",
       "      <td>1</td>\n",
       "    </tr>\n",
       "    <tr>\n",
       "      <th>2</th>\n",
       "      <td>3</td>\n",
       "      <td>3.509</td>\n",
       "      <td>0.000167</td>\n",
       "      <td>1.715</td>\n",
       "      <td>1.539</td>\n",
       "      <td>5.145</td>\n",
       "      <td>9.112</td>\n",
       "      <td>1.040</td>\n",
       "      <td>3.102</td>\n",
       "      <td>4.927</td>\n",
       "      <td>...</td>\n",
       "      <td>211.887</td>\n",
       "      <td>208.440</td>\n",
       "      <td>11.499</td>\n",
       "      <td>182.821</td>\n",
       "      <td>225.162</td>\n",
       "      <td>117.0</td>\n",
       "      <td>114.0</td>\n",
       "      <td>0.004757</td>\n",
       "      <td>0.000380</td>\n",
       "      <td>1</td>\n",
       "    </tr>\n",
       "    <tr>\n",
       "      <th>3</th>\n",
       "      <td>4</td>\n",
       "      <td>2.470</td>\n",
       "      <td>0.000126</td>\n",
       "      <td>1.358</td>\n",
       "      <td>1.341</td>\n",
       "      <td>4.075</td>\n",
       "      <td>10.696</td>\n",
       "      <td>1.256</td>\n",
       "      <td>5.262</td>\n",
       "      <td>7.076</td>\n",
       "      <td>...</td>\n",
       "      <td>195.952</td>\n",
       "      <td>195.222</td>\n",
       "      <td>4.692</td>\n",
       "      <td>186.593</td>\n",
       "      <td>202.812</td>\n",
       "      <td>74.0</td>\n",
       "      <td>73.0</td>\n",
       "      <td>0.005118</td>\n",
       "      <td>0.000187</td>\n",
       "      <td>1</td>\n",
       "    </tr>\n",
       "    <tr>\n",
       "      <th>4</th>\n",
       "      <td>5</td>\n",
       "      <td>1.583</td>\n",
       "      <td>0.000082</td>\n",
       "      <td>0.768</td>\n",
       "      <td>0.864</td>\n",
       "      <td>2.303</td>\n",
       "      <td>9.057</td>\n",
       "      <td>1.070</td>\n",
       "      <td>3.794</td>\n",
       "      <td>5.158</td>\n",
       "      <td>...</td>\n",
       "      <td>195.535</td>\n",
       "      <td>192.316</td>\n",
       "      <td>7.512</td>\n",
       "      <td>177.299</td>\n",
       "      <td>200.638</td>\n",
       "      <td>85.0</td>\n",
       "      <td>84.0</td>\n",
       "      <td>0.005199</td>\n",
       "      <td>0.000245</td>\n",
       "      <td>1</td>\n",
       "    </tr>\n",
       "  </tbody>\n",
       "</table>\n",
       "<p>5 rows × 25 columns</p>\n",
       "</div>\n",
       "      <button class=\"colab-df-convert\" onclick=\"convertToInteractive('df-39ea43bf-3641-4c9f-8337-2639934bb6ce')\"\n",
       "              title=\"Convert this dataframe to an interactive table.\"\n",
       "              style=\"display:none;\">\n",
       "        \n",
       "  <svg xmlns=\"http://www.w3.org/2000/svg\" height=\"24px\"viewBox=\"0 0 24 24\"\n",
       "       width=\"24px\">\n",
       "    <path d=\"M0 0h24v24H0V0z\" fill=\"none\"/>\n",
       "    <path d=\"M18.56 5.44l.94 2.06.94-2.06 2.06-.94-2.06-.94-.94-2.06-.94 2.06-2.06.94zm-11 1L8.5 8.5l.94-2.06 2.06-.94-2.06-.94L8.5 2.5l-.94 2.06-2.06.94zm10 10l.94 2.06.94-2.06 2.06-.94-2.06-.94-.94-2.06-.94 2.06-2.06.94z\"/><path d=\"M17.41 7.96l-1.37-1.37c-.4-.4-.92-.59-1.43-.59-.52 0-1.04.2-1.43.59L10.3 9.45l-7.72 7.72c-.78.78-.78 2.05 0 2.83L4 21.41c.39.39.9.59 1.41.59.51 0 1.02-.2 1.41-.59l7.78-7.78 2.81-2.81c.8-.78.8-2.07 0-2.86zM5.41 20L4 18.59l7.72-7.72 1.47 1.35L5.41 20z\"/>\n",
       "  </svg>\n",
       "      </button>\n",
       "      \n",
       "  <style>\n",
       "    .colab-df-container {\n",
       "      display:flex;\n",
       "      flex-wrap:wrap;\n",
       "      gap: 12px;\n",
       "    }\n",
       "\n",
       "    .colab-df-convert {\n",
       "      background-color: #E8F0FE;\n",
       "      border: none;\n",
       "      border-radius: 50%;\n",
       "      cursor: pointer;\n",
       "      display: none;\n",
       "      fill: #1967D2;\n",
       "      height: 32px;\n",
       "      padding: 0 0 0 0;\n",
       "      width: 32px;\n",
       "    }\n",
       "\n",
       "    .colab-df-convert:hover {\n",
       "      background-color: #E2EBFA;\n",
       "      box-shadow: 0px 1px 2px rgba(60, 64, 67, 0.3), 0px 1px 3px 1px rgba(60, 64, 67, 0.15);\n",
       "      fill: #174EA6;\n",
       "    }\n",
       "\n",
       "    [theme=dark] .colab-df-convert {\n",
       "      background-color: #3B4455;\n",
       "      fill: #D2E3FC;\n",
       "    }\n",
       "\n",
       "    [theme=dark] .colab-df-convert:hover {\n",
       "      background-color: #434B5C;\n",
       "      box-shadow: 0px 1px 3px 1px rgba(0, 0, 0, 0.15);\n",
       "      filter: drop-shadow(0px 1px 2px rgba(0, 0, 0, 0.3));\n",
       "      fill: #FFFFFF;\n",
       "    }\n",
       "  </style>\n",
       "\n",
       "      <script>\n",
       "        const buttonEl =\n",
       "          document.querySelector('#df-39ea43bf-3641-4c9f-8337-2639934bb6ce button.colab-df-convert');\n",
       "        buttonEl.style.display =\n",
       "          google.colab.kernel.accessAllowed ? 'block' : 'none';\n",
       "\n",
       "        async function convertToInteractive(key) {\n",
       "          const element = document.querySelector('#df-39ea43bf-3641-4c9f-8337-2639934bb6ce');\n",
       "          const dataTable =\n",
       "            await google.colab.kernel.invokeFunction('convertToInteractive',\n",
       "                                                     [key], {});\n",
       "          if (!dataTable) return;\n",
       "\n",
       "          const docLinkHtml = 'Like what you see? Visit the ' +\n",
       "            '<a target=\"_blank\" href=https://colab.research.google.com/notebooks/data_table.ipynb>data table notebook</a>'\n",
       "            + ' to learn more about interactive tables.';\n",
       "          element.innerHTML = '';\n",
       "          dataTable['output_type'] = 'display_data';\n",
       "          await google.colab.output.renderOutput(dataTable, element);\n",
       "          const docLink = document.createElement('div');\n",
       "          docLink.innerHTML = docLinkHtml;\n",
       "          element.appendChild(docLink);\n",
       "        }\n",
       "      </script>\n",
       "    </div>\n",
       "  </div>\n",
       "  "
      ],
      "text/plain": [
       "   Unnamed: 0     f1        f2     f3     f4     f5      f6     f7     f8  \\\n",
       "0           1  0.728  0.000038  0.353  0.376  1.059   5.864  0.642  2.058   \n",
       "1           2  2.502  0.000123  1.156  1.634  3.469  13.513  1.273  5.263   \n",
       "2           3  3.509  0.000167  1.715  1.539  5.145   9.112  1.040  3.102   \n",
       "3           4  2.470  0.000126  1.358  1.341  4.075  10.696  1.256  5.262   \n",
       "4           5  1.583  0.000082  0.768  0.864  2.303   9.057  1.070  3.794   \n",
       "\n",
       "      f9  ...      f15      f16     f17      f18      f19    f20    f21  \\\n",
       "0  3.180  ...  195.252  193.289  14.773  159.515  234.505  170.0  169.0   \n",
       "1  8.771  ...  201.997  203.471  10.853  182.713  220.230   94.0   92.0   \n",
       "2  4.927  ...  211.887  208.440  11.499  182.821  225.162  117.0  114.0   \n",
       "3  7.076  ...  195.952  195.222   4.692  186.593  202.812   74.0   73.0   \n",
       "4  5.158  ...  195.535  192.316   7.512  177.299  200.638   85.0   84.0   \n",
       "\n",
       "        f22       f23  Class  \n",
       "0  0.005181  0.000403      1  \n",
       "1  0.004910  0.000320      1  \n",
       "2  0.004757  0.000380      1  \n",
       "3  0.005118  0.000187      1  \n",
       "4  0.005199  0.000245      1  \n",
       "\n",
       "[5 rows x 25 columns]"
      ]
     },
     "execution_count": 4,
     "metadata": {},
     "output_type": "execute_result"
    }
   ],
   "source": [
    "new_data.head(5)"
   ]
  },
  {
   "cell_type": "code",
   "execution_count": 5,
   "metadata": {
    "colab": {
     "base_uri": "https://localhost:8080/"
    },
    "id": "zkzi9kTzXF6i",
    "outputId": "c2c14c6b-9365-42d9-d5b7-de54daf73672"
   },
   "outputs": [
    {
     "data": {
      "text/plain": [
       "<bound method NDFrame.describe of      Unnamed: 0     f1        f2     f3     f4     f5      f6     f7     f8  \\\n",
       "0             1  0.728  0.000038  0.353  0.376  1.059   5.864  0.642  2.058   \n",
       "1             2  2.502  0.000123  1.156  1.634  3.469  13.513  1.273  5.263   \n",
       "2             3  3.509  0.000167  1.715  1.539  5.145   9.112  1.040  3.102   \n",
       "3             4  2.470  0.000126  1.358  1.341  4.075  10.696  1.256  5.262   \n",
       "4             5  1.583  0.000082  0.768  0.864  2.303   9.057  1.070  3.794   \n",
       "..          ...    ...       ...    ...    ...    ...     ...    ...    ...   \n",
       "722         752  0.464  0.000028  0.261  0.245  0.784   6.708  0.577  3.786   \n",
       "723         753  0.680  0.000036  0.368  0.305  1.103   2.968  0.326  1.369   \n",
       "724         754  0.353  0.000019  0.158  0.129  0.474   3.101  0.317  1.554   \n",
       "725         755  0.175  0.000012  0.072  0.098  0.217   4.265  0.379  2.149   \n",
       "726         756  0.257  0.000018  0.105  0.122  0.315   5.665  0.544  2.612   \n",
       "\n",
       "        f9  ...      f15      f16     f17      f18      f19    f20    f21  \\\n",
       "0    3.180  ...  195.252  193.289  14.773  159.515  234.505  170.0  169.0   \n",
       "1    8.771  ...  201.997  203.471  10.853  182.713  220.230   94.0   92.0   \n",
       "2    4.927  ...  211.887  208.440  11.499  182.821  225.162  117.0  114.0   \n",
       "3    7.076  ...  195.952  195.222   4.692  186.593  202.812   74.0   73.0   \n",
       "4    5.158  ...  195.535  192.316   7.512  177.299  200.638   85.0   84.0   \n",
       "..     ...  ...      ...      ...     ...      ...      ...    ...    ...   \n",
       "722  3.753  ...  165.338  165.313   7.786  150.095  178.958  163.0  162.0   \n",
       "723  1.707  ...  188.775  186.116   7.420  155.230  192.402  182.0  181.0   \n",
       "724  1.911  ...  188.711  186.255   6.774  151.195  192.318  182.0  181.0   \n",
       "725  2.633  ...  143.077  144.370   3.876  137.875  151.472  142.0  141.0   \n",
       "726  3.390  ...  140.342  139.973   7.855  122.280  153.180  137.0  136.0   \n",
       "\n",
       "          f22       f23  Class  \n",
       "0    0.005181  0.000403      1  \n",
       "1    0.004910  0.000320      1  \n",
       "2    0.004757  0.000380      1  \n",
       "3    0.005118  0.000187      1  \n",
       "4    0.005199  0.000245      1  \n",
       "..        ...       ...    ...  \n",
       "722  0.006048  0.000290      1  \n",
       "723  0.005363  0.000201      1  \n",
       "724  0.005365  0.000196      1  \n",
       "725  0.006928  0.000186      1  \n",
       "726  0.007143  0.000407      1  \n",
       "\n",
       "[727 rows x 25 columns]>"
      ]
     },
     "execution_count": 5,
     "metadata": {},
     "output_type": "execute_result"
    }
   ],
   "source": [
    "new_data.describe"
   ]
  },
  {
   "cell_type": "code",
   "execution_count": 6,
   "metadata": {
    "colab": {
     "base_uri": "https://localhost:8080/"
    },
    "id": "kJNPeMBjXMBJ",
    "outputId": "4aff7528-a733-4ec9-9a25-464f609c263b"
   },
   "outputs": [
    {
     "data": {
      "text/plain": [
       "['Unnamed: 0',\n",
       " 'f1',\n",
       " 'f2',\n",
       " 'f3',\n",
       " 'f4',\n",
       " 'f5',\n",
       " 'f6',\n",
       " 'f7',\n",
       " 'f8',\n",
       " 'f9',\n",
       " 'f10',\n",
       " 'f11',\n",
       " 'f12',\n",
       " 'f13',\n",
       " 'f14',\n",
       " 'f15',\n",
       " 'f16',\n",
       " 'f17',\n",
       " 'f18',\n",
       " 'f19',\n",
       " 'f20',\n",
       " 'f21',\n",
       " 'f22',\n",
       " 'f23',\n",
       " 'Class']"
      ]
     },
     "execution_count": 6,
     "metadata": {},
     "output_type": "execute_result"
    }
   ],
   "source": [
    "train_col=[]\n",
    "for col in new_data.columns:\n",
    "    train_col.append(col)\n",
    "train_col"
   ]
  },
  {
   "cell_type": "code",
   "execution_count": 7,
   "metadata": {
    "colab": {
     "base_uri": "https://localhost:8080/",
     "height": 333
    },
    "id": "FLmQ0cqkXT0k",
    "outputId": "8c7db1fe-4134-4c4b-a820-c3626fc36b1b"
   },
   "outputs": [
    {
     "name": "stderr",
     "output_type": "stream",
     "text": [
      "/usr/local/lib/python3.9/dist-packages/seaborn/_decorators.py:36: FutureWarning: Pass the following variable as a keyword arg: x. From version 0.12, the only valid positional argument will be `data`, and passing other arguments without an explicit keyword will result in an error or misinterpretation.\n",
      "  warnings.warn(\n"
     ]
    },
    {
     "data": {
      "image/png": "[encoded data removed]",
      "text/plain": [
       "<Figure size 432x288 with 1 Axes>"
      ]
     },
     "metadata": {
      "needs_background": "light"
     },
     "output_type": "display_data"
    }
   ],
   "source": [
    "sns.countplot(new_data['Class'].values)\n",
    "plt.xlabel('Class Values')\n",
    "plt.ylabel('Class Counts')\n",
    "plt.show()"
   ]
  },
  {
   "cell_type": "code",
   "execution_count": 8,
   "metadata": {
    "id": "jFJ_Vck-XYhc"
   },
   "outputs": [],
   "source": [
    "index_class=[]\n",
    "for i in range(100):\n",
    "    index_class.append(i)"
   ]
  },
  {
   "cell_type": "code",
   "execution_count": 9,
   "metadata": {
    "colab": {
     "base_uri": "https://localhost:8080/",
     "height": 265
    },
    "id": "3QMXrMR4Xid-",
    "outputId": "4c1a94a8-b45c-4aa4-f775-7f7ef2113460"
   },
   "outputs": [
    {
     "data": {
      "image/png": "[encoded data removed]",
      "text/plain": [
       "<Figure size 432x288 with 1 Axes>"
      ]
     },
     "metadata": {
      "needs_background": "light"
     },
     "output_type": "display_data"
    }
   ],
   "source": [
    "plt.scatter(x=index_class,y=new_data[new_data['Class']==1].f1[:100],color='b')\n",
    "plt.scatter(x=index_class,y=new_data[new_data['Class']==0].f1[:100],color='r')\n",
    "plt.show()"
   ]
  },
  {
   "cell_type": "code",
   "execution_count": 10,
   "metadata": {
    "id": "2zf5dM8eXpXb"
   },
   "outputs": [],
   "source": [
    "liste_data=[]\n",
    "for i in range(0,252):\n",
    "    liste_data.append(i)"
   ]
  },
  {
   "cell_type": "code",
   "execution_count": 11,
   "metadata": {
    "colab": {
     "base_uri": "https://localhost:8080/",
     "height": 314
    },
    "id": "_vrO_kM5Xzuo",
    "outputId": "d278fb00-eb37-494c-b014-79d59214ba48"
   },
   "outputs": [
    {
     "data": {
      "text/html": [
       "\n",
       "  <div id=\"df-c149ae5f-916e-4744-a347-5f0630e6d8cf\">\n",
       "    <div class=\"colab-df-container\">\n",
       "      <div>\n",
       "<style scoped>\n",
       "    .dataframe tbody tr th:only-of-type {\n",
       "        vertical-align: middle;\n",
       "    }\n",
       "\n",
       "    .dataframe tbody tr th {\n",
       "        vertical-align: top;\n",
       "    }\n",
       "\n",
       "    .dataframe thead th {\n",
       "        text-align: right;\n",
       "    }\n",
       "</style>\n",
       "<table border=\"1\" class=\"dataframe\">\n",
       "  <thead>\n",
       "    <tr style=\"text-align: right;\">\n",
       "      <th></th>\n",
       "      <th>Unnamed: 0</th>\n",
       "      <th>f1</th>\n",
       "      <th>f2</th>\n",
       "      <th>f3</th>\n",
       "      <th>f4</th>\n",
       "      <th>f5</th>\n",
       "      <th>f6</th>\n",
       "      <th>f7</th>\n",
       "      <th>f8</th>\n",
       "      <th>f9</th>\n",
       "      <th>...</th>\n",
       "      <th>f15</th>\n",
       "      <th>f16</th>\n",
       "      <th>f17</th>\n",
       "      <th>f18</th>\n",
       "      <th>f19</th>\n",
       "      <th>f20</th>\n",
       "      <th>f21</th>\n",
       "      <th>f22</th>\n",
       "      <th>f23</th>\n",
       "      <th>Class</th>\n",
       "    </tr>\n",
       "  </thead>\n",
       "  <tbody>\n",
       "    <tr>\n",
       "      <th>0</th>\n",
       "      <td>1</td>\n",
       "      <td>0.728</td>\n",
       "      <td>0.000038</td>\n",
       "      <td>0.353</td>\n",
       "      <td>0.376</td>\n",
       "      <td>1.059</td>\n",
       "      <td>5.864</td>\n",
       "      <td>0.642</td>\n",
       "      <td>2.058</td>\n",
       "      <td>3.180</td>\n",
       "      <td>...</td>\n",
       "      <td>195.252</td>\n",
       "      <td>193.289</td>\n",
       "      <td>14.773</td>\n",
       "      <td>159.515</td>\n",
       "      <td>234.505</td>\n",
       "      <td>170.0</td>\n",
       "      <td>169.0</td>\n",
       "      <td>0.005181</td>\n",
       "      <td>0.000403</td>\n",
       "      <td>1</td>\n",
       "    </tr>\n",
       "    <tr>\n",
       "      <th>1</th>\n",
       "      <td>2</td>\n",
       "      <td>2.502</td>\n",
       "      <td>0.000123</td>\n",
       "      <td>1.156</td>\n",
       "      <td>1.634</td>\n",
       "      <td>3.469</td>\n",
       "      <td>13.513</td>\n",
       "      <td>1.273</td>\n",
       "      <td>5.263</td>\n",
       "      <td>8.771</td>\n",
       "      <td>...</td>\n",
       "      <td>201.997</td>\n",
       "      <td>203.471</td>\n",
       "      <td>10.853</td>\n",
       "      <td>182.713</td>\n",
       "      <td>220.230</td>\n",
       "      <td>94.0</td>\n",
       "      <td>92.0</td>\n",
       "      <td>0.004910</td>\n",
       "      <td>0.000320</td>\n",
       "      <td>1</td>\n",
       "    </tr>\n",
       "    <tr>\n",
       "      <th>2</th>\n",
       "      <td>3</td>\n",
       "      <td>3.509</td>\n",
       "      <td>0.000167</td>\n",
       "      <td>1.715</td>\n",
       "      <td>1.539</td>\n",
       "      <td>5.145</td>\n",
       "      <td>9.112</td>\n",
       "      <td>1.040</td>\n",
       "      <td>3.102</td>\n",
       "      <td>4.927</td>\n",
       "      <td>...</td>\n",
       "      <td>211.887</td>\n",
       "      <td>208.440</td>\n",
       "      <td>11.499</td>\n",
       "      <td>182.821</td>\n",
       "      <td>225.162</td>\n",
       "      <td>117.0</td>\n",
       "      <td>114.0</td>\n",
       "      <td>0.004757</td>\n",
       "      <td>0.000380</td>\n",
       "      <td>1</td>\n",
       "    </tr>\n",
       "    <tr>\n",
       "      <th>3</th>\n",
       "      <td>4</td>\n",
       "      <td>2.470</td>\n",
       "      <td>0.000126</td>\n",
       "      <td>1.358</td>\n",
       "      <td>1.341</td>\n",
       "      <td>4.075</td>\n",
       "      <td>10.696</td>\n",
       "      <td>1.256</td>\n",
       "      <td>5.262</td>\n",
       "      <td>7.076</td>\n",
       "      <td>...</td>\n",
       "      <td>195.952</td>\n",
       "      <td>195.222</td>\n",
       "      <td>4.692</td>\n",
       "      <td>186.593</td>\n",
       "      <td>202.812</td>\n",
       "      <td>74.0</td>\n",
       "      <td>73.0</td>\n",
       "      <td>0.005118</td>\n",
       "      <td>0.000187</td>\n",
       "      <td>1</td>\n",
       "    </tr>\n",
       "    <tr>\n",
       "      <th>4</th>\n",
       "      <td>5</td>\n",
       "      <td>1.583</td>\n",
       "      <td>0.000082</td>\n",
       "      <td>0.768</td>\n",
       "      <td>0.864</td>\n",
       "      <td>2.303</td>\n",
       "      <td>9.057</td>\n",
       "      <td>1.070</td>\n",
       "      <td>3.794</td>\n",
       "      <td>5.158</td>\n",
       "      <td>...</td>\n",
       "      <td>195.535</td>\n",
       "      <td>192.316</td>\n",
       "      <td>7.512</td>\n",
       "      <td>177.299</td>\n",
       "      <td>200.638</td>\n",
       "      <td>85.0</td>\n",
       "      <td>84.0</td>\n",
       "      <td>0.005199</td>\n",
       "      <td>0.000245</td>\n",
       "      <td>1</td>\n",
       "    </tr>\n",
       "  </tbody>\n",
       "</table>\n",
       "<p>5 rows × 25 columns</p>\n",
       "</div>\n",
       "      <button class=\"colab-df-convert\" onclick=\"convertToInteractive('df-c149ae5f-916e-4744-a347-5f0630e6d8cf')\"\n",
       "              title=\"Convert this dataframe to an interactive table.\"\n",
       "              style=\"display:none;\">\n",
       "        \n",
       "  <svg xmlns=\"http://www.w3.org/2000/svg\" height=\"24px\"viewBox=\"0 0 24 24\"\n",
       "       width=\"24px\">\n",
       "    <path d=\"M0 0h24v24H0V0z\" fill=\"none\"/>\n",
       "    <path d=\"M18.56 5.44l.94 2.06.94-2.06 2.06-.94-2.06-.94-.94-2.06-.94 2.06-2.06.94zm-11 1L8.5 8.5l.94-2.06 2.06-.94-2.06-.94L8.5 2.5l-.94 2.06-2.06.94zm10 10l.94 2.06.94-2.06 2.06-.94-2.06-.94-.94-2.06-.94 2.06-2.06.94z\"/><path d=\"M17.41 7.96l-1.37-1.37c-.4-.4-.92-.59-1.43-.59-.52 0-1.04.2-1.43.59L10.3 9.45l-7.72 7.72c-.78.78-.78 2.05 0 2.83L4 21.41c.39.39.9.59 1.41.59.51 0 1.02-.2 1.41-.59l7.78-7.78 2.81-2.81c.8-.78.8-2.07 0-2.86zM5.41 20L4 18.59l7.72-7.72 1.47 1.35L5.41 20z\"/>\n",
       "  </svg>\n",
       "      </button>\n",
       "      \n",
       "  <style>\n",
       "    .colab-df-container {\n",
       "      display:flex;\n",
       "      flex-wrap:wrap;\n",
       "      gap: 12px;\n",
       "    }\n",
       "\n",
       "    .colab-df-convert {\n",
       "      background-color: #E8F0FE;\n",
       "      border: none;\n",
       "      border-radius: 50%;\n",
       "      cursor: pointer;\n",
       "      display: none;\n",
       "      fill: #1967D2;\n",
       "      height: 32px;\n",
       "      padding: 0 0 0 0;\n",
       "      width: 32px;\n",
       "    }\n",
       "\n",
       "    .colab-df-convert:hover {\n",
       "      background-color: #E2EBFA;\n",
       "      box-shadow: 0px 1px 2px rgba(60, 64, 67, 0.3), 0px 1px 3px 1px rgba(60, 64, 67, 0.15);\n",
       "      fill: #174EA6;\n",
       "    }\n",
       "\n",
       "    [theme=dark] .colab-df-convert {\n",
       "      background-color: #3B4455;\n",
       "      fill: #D2E3FC;\n",
       "    }\n",
       "\n",
       "    [theme=dark] .colab-df-convert:hover {\n",
       "      background-color: #434B5C;\n",
       "      box-shadow: 0px 1px 3px 1px rgba(0, 0, 0, 0.15);\n",
       "      filter: drop-shadow(0px 1px 2px rgba(0, 0, 0, 0.3));\n",
       "      fill: #FFFFFF;\n",
       "    }\n",
       "  </style>\n",
       "\n",
       "      <script>\n",
       "        const buttonEl =\n",
       "          document.querySelector('#df-c149ae5f-916e-4744-a347-5f0630e6d8cf button.colab-df-convert');\n",
       "        buttonEl.style.display =\n",
       "          google.colab.kernel.accessAllowed ? 'block' : 'none';\n",
       "\n",
       "        async function convertToInteractive(key) {\n",
       "          const element = document.querySelector('#df-c149ae5f-916e-4744-a347-5f0630e6d8cf');\n",
       "          const dataTable =\n",
       "            await google.colab.kernel.invokeFunction('convertToInteractive',\n",
       "                                                     [key], {});\n",
       "          if (!dataTable) return;\n",
       "\n",
       "          const docLinkHtml = 'Like what you see? Visit the ' +\n",
       "            '<a target=\"_blank\" href=https://colab.research.google.com/notebooks/data_table.ipynb>data table notebook</a>'\n",
       "            + ' to learn more about interactive tables.';\n",
       "          element.innerHTML = '';\n",
       "          dataTable['output_type'] = 'display_data';\n",
       "          await google.colab.output.renderOutput(dataTable, element);\n",
       "          const docLink = document.createElement('div');\n",
       "          docLink.innerHTML = docLinkHtml;\n",
       "          element.appendChild(docLink);\n",
       "        }\n",
       "      </script>\n",
       "    </div>\n",
       "  </div>\n",
       "  "
      ],
      "text/plain": [
       "   Unnamed: 0     f1        f2     f3     f4     f5      f6     f7     f8  \\\n",
       "0           1  0.728  0.000038  0.353  0.376  1.059   5.864  0.642  2.058   \n",
       "1           2  2.502  0.000123  1.156  1.634  3.469  13.513  1.273  5.263   \n",
       "2           3  3.509  0.000167  1.715  1.539  5.145   9.112  1.040  3.102   \n",
       "3           4  2.470  0.000126  1.358  1.341  4.075  10.696  1.256  5.262   \n",
       "4           5  1.583  0.000082  0.768  0.864  2.303   9.057  1.070  3.794   \n",
       "\n",
       "      f9  ...      f15      f16     f17      f18      f19    f20    f21  \\\n",
       "0  3.180  ...  195.252  193.289  14.773  159.515  234.505  170.0  169.0   \n",
       "1  8.771  ...  201.997  203.471  10.853  182.713  220.230   94.0   92.0   \n",
       "2  4.927  ...  211.887  208.440  11.499  182.821  225.162  117.0  114.0   \n",
       "3  7.076  ...  195.952  195.222   4.692  186.593  202.812   74.0   73.0   \n",
       "4  5.158  ...  195.535  192.316   7.512  177.299  200.638   85.0   84.0   \n",
       "\n",
       "        f22       f23  Class  \n",
       "0  0.005181  0.000403      1  \n",
       "1  0.004910  0.000320      1  \n",
       "2  0.004757  0.000380      1  \n",
       "3  0.005118  0.000187      1  \n",
       "4  0.005199  0.000245      1  \n",
       "\n",
       "[5 rows x 25 columns]"
      ]
     },
     "execution_count": 11,
     "metadata": {},
     "output_type": "execute_result"
    }
   ],
   "source": [
    "new_data[new_data.Class==1].head()"
   ]
  },
  {
   "cell_type": "code",
   "execution_count": 12,
   "metadata": {
    "colab": {
     "base_uri": "https://localhost:8080/",
     "height": 314
    },
    "id": "KUam_y54YRYe",
    "outputId": "0183f37d-1bf2-4647-b61b-8bd2fb9f23f1"
   },
   "outputs": [
    {
     "data": {
      "text/html": [
       "\n",
       "  <div id=\"df-fd6c0b9a-92ce-4ebd-928c-7ab5605bac20\">\n",
       "    <div class=\"colab-df-container\">\n",
       "      <div>\n",
       "<style scoped>\n",
       "    .dataframe tbody tr th:only-of-type {\n",
       "        vertical-align: middle;\n",
       "    }\n",
       "\n",
       "    .dataframe tbody tr th {\n",
       "        vertical-align: top;\n",
       "    }\n",
       "\n",
       "    .dataframe thead th {\n",
       "        text-align: right;\n",
       "    }\n",
       "</style>\n",
       "<table border=\"1\" class=\"dataframe\">\n",
       "  <thead>\n",
       "    <tr style=\"text-align: right;\">\n",
       "      <th></th>\n",
       "      <th>Unnamed: 0</th>\n",
       "      <th>f1</th>\n",
       "      <th>f2</th>\n",
       "      <th>f3</th>\n",
       "      <th>f4</th>\n",
       "      <th>f5</th>\n",
       "      <th>f6</th>\n",
       "      <th>f7</th>\n",
       "      <th>f8</th>\n",
       "      <th>f9</th>\n",
       "      <th>...</th>\n",
       "      <th>f15</th>\n",
       "      <th>f16</th>\n",
       "      <th>f17</th>\n",
       "      <th>f18</th>\n",
       "      <th>f19</th>\n",
       "      <th>f20</th>\n",
       "      <th>f21</th>\n",
       "      <th>f22</th>\n",
       "      <th>f23</th>\n",
       "      <th>Class</th>\n",
       "    </tr>\n",
       "  </thead>\n",
       "  <tbody>\n",
       "    <tr>\n",
       "      <th>346</th>\n",
       "      <td>355</td>\n",
       "      <td>0.792</td>\n",
       "      <td>0.000076</td>\n",
       "      <td>0.411</td>\n",
       "      <td>0.333</td>\n",
       "      <td>1.234</td>\n",
       "      <td>4.136</td>\n",
       "      <td>0.391</td>\n",
       "      <td>2.202</td>\n",
       "      <td>2.552</td>\n",
       "      <td>...</td>\n",
       "      <td>103.774</td>\n",
       "      <td>103.862</td>\n",
       "      <td>1.730</td>\n",
       "      <td>98.743</td>\n",
       "      <td>110.597</td>\n",
       "      <td>147.0</td>\n",
       "      <td>146.0</td>\n",
       "      <td>0.009623</td>\n",
       "      <td>0.000203</td>\n",
       "      <td>0</td>\n",
       "    </tr>\n",
       "    <tr>\n",
       "      <th>347</th>\n",
       "      <td>356</td>\n",
       "      <td>0.400</td>\n",
       "      <td>0.000038</td>\n",
       "      <td>0.204</td>\n",
       "      <td>0.228</td>\n",
       "      <td>0.613</td>\n",
       "      <td>11.598</td>\n",
       "      <td>1.019</td>\n",
       "      <td>5.521</td>\n",
       "      <td>7.922</td>\n",
       "      <td>...</td>\n",
       "      <td>105.271</td>\n",
       "      <td>105.500</td>\n",
       "      <td>1.083</td>\n",
       "      <td>103.224</td>\n",
       "      <td>108.389</td>\n",
       "      <td>105.0</td>\n",
       "      <td>104.0</td>\n",
       "      <td>0.009478</td>\n",
       "      <td>0.000101</td>\n",
       "      <td>0</td>\n",
       "    </tr>\n",
       "    <tr>\n",
       "      <th>348</th>\n",
       "      <td>357</td>\n",
       "      <td>0.813</td>\n",
       "      <td>0.000074</td>\n",
       "      <td>0.434</td>\n",
       "      <td>0.437</td>\n",
       "      <td>1.302</td>\n",
       "      <td>17.380</td>\n",
       "      <td>1.473</td>\n",
       "      <td>8.595</td>\n",
       "      <td>10.105</td>\n",
       "      <td>...</td>\n",
       "      <td>108.954</td>\n",
       "      <td>109.202</td>\n",
       "      <td>1.316</td>\n",
       "      <td>107.359</td>\n",
       "      <td>113.089</td>\n",
       "      <td>62.0</td>\n",
       "      <td>56.0</td>\n",
       "      <td>0.009150</td>\n",
       "      <td>0.000123</td>\n",
       "      <td>0</td>\n",
       "    </tr>\n",
       "    <tr>\n",
       "      <th>349</th>\n",
       "      <td>358</td>\n",
       "      <td>1.700</td>\n",
       "      <td>0.000172</td>\n",
       "      <td>0.789</td>\n",
       "      <td>0.929</td>\n",
       "      <td>2.367</td>\n",
       "      <td>7.283</td>\n",
       "      <td>0.723</td>\n",
       "      <td>2.640</td>\n",
       "      <td>3.281</td>\n",
       "      <td>...</td>\n",
       "      <td>100.527</td>\n",
       "      <td>98.816</td>\n",
       "      <td>4.838</td>\n",
       "      <td>87.466</td>\n",
       "      <td>106.806</td>\n",
       "      <td>38.0</td>\n",
       "      <td>37.0</td>\n",
       "      <td>0.010109</td>\n",
       "      <td>0.000494</td>\n",
       "      <td>0</td>\n",
       "    </tr>\n",
       "    <tr>\n",
       "      <th>350</th>\n",
       "      <td>359</td>\n",
       "      <td>1.528</td>\n",
       "      <td>0.000159</td>\n",
       "      <td>0.596</td>\n",
       "      <td>0.698</td>\n",
       "      <td>1.789</td>\n",
       "      <td>8.213</td>\n",
       "      <td>0.902</td>\n",
       "      <td>2.992</td>\n",
       "      <td>4.054</td>\n",
       "      <td>...</td>\n",
       "      <td>97.658</td>\n",
       "      <td>96.255</td>\n",
       "      <td>6.928</td>\n",
       "      <td>75.054</td>\n",
       "      <td>107.295</td>\n",
       "      <td>41.0</td>\n",
       "      <td>39.0</td>\n",
       "      <td>0.010419</td>\n",
       "      <td>0.000823</td>\n",
       "      <td>0</td>\n",
       "    </tr>\n",
       "  </tbody>\n",
       "</table>\n",
       "<p>5 rows × 25 columns</p>\n",
       "</div>\n",
       "      <button class=\"colab-df-convert\" onclick=\"convertToInteractive('df-fd6c0b9a-92ce-4ebd-928c-7ab5605bac20')\"\n",
       "              title=\"Convert this dataframe to an interactive table.\"\n",
       "              style=\"display:none;\">\n",
       "        \n",
       "  <svg xmlns=\"http://www.w3.org/2000/svg\" height=\"24px\"viewBox=\"0 0 24 24\"\n",
       "       width=\"24px\">\n",
       "    <path d=\"M0 0h24v24H0V0z\" fill=\"none\"/>\n",
       "    <path d=\"M18.56 5.44l.94 2.06.94-2.06 2.06-.94-2.06-.94-.94-2.06-.94 2.06-2.06.94zm-11 1L8.5 8.5l.94-2.06 2.06-.94-2.06-.94L8.5 2.5l-.94 2.06-2.06.94zm10 10l.94 2.06.94-2.06 2.06-.94-2.06-.94-.94-2.06-.94 2.06-2.06.94z\"/><path d=\"M17.41 7.96l-1.37-1.37c-.4-.4-.92-.59-1.43-.59-.52 0-1.04.2-1.43.59L10.3 9.45l-7.72 7.72c-.78.78-.78 2.05 0 2.83L4 21.41c.39.39.9.59 1.41.59.51 0 1.02-.2 1.41-.59l7.78-7.78 2.81-2.81c.8-.78.8-2.07 0-2.86zM5.41 20L4 18.59l7.72-7.72 1.47 1.35L5.41 20z\"/>\n",
       "  </svg>\n",
       "      </button>\n",
       "      \n",
       "  <style>\n",
       "    .colab-df-container {\n",
       "      display:flex;\n",
       "      flex-wrap:wrap;\n",
       "      gap: 12px;\n",
       "    }\n",
       "\n",
       "    .colab-df-convert {\n",
       "      background-color: #E8F0FE;\n",
       "      border: none;\n",
       "      border-radius: 50%;\n",
       "      cursor: pointer;\n",
       "      display: none;\n",
       "      fill: #1967D2;\n",
       "      height: 32px;\n",
       "      padding: 0 0 0 0;\n",
       "      width: 32px;\n",
       "    }\n",
       "\n",
       "    .colab-df-convert:hover {\n",
       "      background-color: #E2EBFA;\n",
       "      box-shadow: 0px 1px 2px rgba(60, 64, 67, 0.3), 0px 1px 3px 1px rgba(60, 64, 67, 0.15);\n",
       "      fill: #174EA6;\n",
       "    }\n",
       "\n",
       "    [theme=dark] .colab-df-convert {\n",
       "      background-color: #3B4455;\n",
       "      fill: #D2E3FC;\n",
       "    }\n",
       "\n",
       "    [theme=dark] .colab-df-convert:hover {\n",
       "      background-color: #434B5C;\n",
       "      box-shadow: 0px 1px 3px 1px rgba(0, 0, 0, 0.15);\n",
       "      filter: drop-shadow(0px 1px 2px rgba(0, 0, 0, 0.3));\n",
       "      fill: #FFFFFF;\n",
       "    }\n",
       "  </style>\n",
       "\n",
       "      <script>\n",
       "        const buttonEl =\n",
       "          document.querySelector('#df-fd6c0b9a-92ce-4ebd-928c-7ab5605bac20 button.colab-df-convert');\n",
       "        buttonEl.style.display =\n",
       "          google.colab.kernel.accessAllowed ? 'block' : 'none';\n",
       "\n",
       "        async function convertToInteractive(key) {\n",
       "          const element = document.querySelector('#df-fd6c0b9a-92ce-4ebd-928c-7ab5605bac20');\n",
       "          const dataTable =\n",
       "            await google.colab.kernel.invokeFunction('convertToInteractive',\n",
       "                                                     [key], {});\n",
       "          if (!dataTable) return;\n",
       "\n",
       "          const docLinkHtml = 'Like what you see? Visit the ' +\n",
       "            '<a target=\"_blank\" href=https://colab.research.google.com/notebooks/data_table.ipynb>data table notebook</a>'\n",
       "            + ' to learn more about interactive tables.';\n",
       "          element.innerHTML = '';\n",
       "          dataTable['output_type'] = 'display_data';\n",
       "          await google.colab.output.renderOutput(dataTable, element);\n",
       "          const docLink = document.createElement('div');\n",
       "          docLink.innerHTML = docLinkHtml;\n",
       "          element.appendChild(docLink);\n",
       "        }\n",
       "      </script>\n",
       "    </div>\n",
       "  </div>\n",
       "  "
      ],
      "text/plain": [
       "     Unnamed: 0     f1        f2     f3     f4     f5      f6     f7     f8  \\\n",
       "346         355  0.792  0.000076  0.411  0.333  1.234   4.136  0.391  2.202   \n",
       "347         356  0.400  0.000038  0.204  0.228  0.613  11.598  1.019  5.521   \n",
       "348         357  0.813  0.000074  0.434  0.437  1.302  17.380  1.473  8.595   \n",
       "349         358  1.700  0.000172  0.789  0.929  2.367   7.283  0.723  2.640   \n",
       "350         359  1.528  0.000159  0.596  0.698  1.789   8.213  0.902  2.992   \n",
       "\n",
       "         f9  ...      f15      f16    f17      f18      f19    f20    f21  \\\n",
       "346   2.552  ...  103.774  103.862  1.730   98.743  110.597  147.0  146.0   \n",
       "347   7.922  ...  105.271  105.500  1.083  103.224  108.389  105.0  104.0   \n",
       "348  10.105  ...  108.954  109.202  1.316  107.359  113.089   62.0   56.0   \n",
       "349   3.281  ...  100.527   98.816  4.838   87.466  106.806   38.0   37.0   \n",
       "350   4.054  ...   97.658   96.255  6.928   75.054  107.295   41.0   39.0   \n",
       "\n",
       "          f22       f23  Class  \n",
       "346  0.009623  0.000203      0  \n",
       "347  0.009478  0.000101      0  \n",
       "348  0.009150  0.000123      0  \n",
       "349  0.010109  0.000494      0  \n",
       "350  0.010419  0.000823      0  \n",
       "\n",
       "[5 rows x 25 columns]"
      ]
     },
     "execution_count": 12,
     "metadata": {},
     "output_type": "execute_result"
    }
   ],
   "source": [
    "new_data[new_data.Class==0].head()"
   ]
  },
  {
   "cell_type": "code",
   "execution_count": 13,
   "metadata": {
    "colab": {
     "base_uri": "https://localhost:8080/",
     "height": 173
    },
    "id": "tr6OaYXoYX2R",
    "outputId": "d7328e1d-443e-4c0f-8fbf-3cb0b8e71ae5"
   },
   "outputs": [
    {
     "data": {
      "text/html": [
       "\n",
       "  <div id=\"df-1c2d6ffc-3ef1-47fd-a39d-1239b6da61d1\">\n",
       "    <div class=\"colab-df-container\">\n",
       "      <div>\n",
       "<style scoped>\n",
       "    .dataframe tbody tr th:only-of-type {\n",
       "        vertical-align: middle;\n",
       "    }\n",
       "\n",
       "    .dataframe tbody tr th {\n",
       "        vertical-align: top;\n",
       "    }\n",
       "\n",
       "    .dataframe thead th {\n",
       "        text-align: right;\n",
       "    }\n",
       "</style>\n",
       "<table border=\"1\" class=\"dataframe\">\n",
       "  <thead>\n",
       "    <tr style=\"text-align: right;\">\n",
       "      <th></th>\n",
       "      <th>f1</th>\n",
       "      <th>f2</th>\n",
       "      <th>f3</th>\n",
       "      <th>f4</th>\n",
       "    </tr>\n",
       "  </thead>\n",
       "  <tbody>\n",
       "    <tr>\n",
       "      <th>f1</th>\n",
       "      <td>1.000000</td>\n",
       "      <td>0.907353</td>\n",
       "      <td>0.948818</td>\n",
       "      <td>0.924888</td>\n",
       "    </tr>\n",
       "    <tr>\n",
       "      <th>f2</th>\n",
       "      <td>0.907353</td>\n",
       "      <td>1.000000</td>\n",
       "      <td>0.838732</td>\n",
       "      <td>0.816680</td>\n",
       "    </tr>\n",
       "    <tr>\n",
       "      <th>f3</th>\n",
       "      <td>0.948818</td>\n",
       "      <td>0.838732</td>\n",
       "      <td>1.000000</td>\n",
       "      <td>0.939743</td>\n",
       "    </tr>\n",
       "    <tr>\n",
       "      <th>f4</th>\n",
       "      <td>0.924888</td>\n",
       "      <td>0.816680</td>\n",
       "      <td>0.939743</td>\n",
       "      <td>1.000000</td>\n",
       "    </tr>\n",
       "  </tbody>\n",
       "</table>\n",
       "</div>\n",
       "      <button class=\"colab-df-convert\" onclick=\"convertToInteractive('df-1c2d6ffc-3ef1-47fd-a39d-1239b6da61d1')\"\n",
       "              title=\"Convert this dataframe to an interactive table.\"\n",
       "              style=\"display:none;\">\n",
       "        \n",
       "  <svg xmlns=\"http://www.w3.org/2000/svg\" height=\"24px\"viewBox=\"0 0 24 24\"\n",
       "       width=\"24px\">\n",
       "    <path d=\"M0 0h24v24H0V0z\" fill=\"none\"/>\n",
       "    <path d=\"M18.56 5.44l.94 2.06.94-2.06 2.06-.94-2.06-.94-.94-2.06-.94 2.06-2.06.94zm-11 1L8.5 8.5l.94-2.06 2.06-.94-2.06-.94L8.5 2.5l-.94 2.06-2.06.94zm10 10l.94 2.06.94-2.06 2.06-.94-2.06-.94-.94-2.06-.94 2.06-2.06.94z\"/><path d=\"M17.41 7.96l-1.37-1.37c-.4-.4-.92-.59-1.43-.59-.52 0-1.04.2-1.43.59L10.3 9.45l-7.72 7.72c-.78.78-.78 2.05 0 2.83L4 21.41c.39.39.9.59 1.41.59.51 0 1.02-.2 1.41-.59l7.78-7.78 2.81-2.81c.8-.78.8-2.07 0-2.86zM5.41 20L4 18.59l7.72-7.72 1.47 1.35L5.41 20z\"/>\n",
       "  </svg>\n",
       "      </button>\n",
       "      \n",
       "  <style>\n",
       "    .colab-df-container {\n",
       "      display:flex;\n",
       "      flex-wrap:wrap;\n",
       "      gap: 12px;\n",
       "    }\n",
       "\n",
       "    .colab-df-convert {\n",
       "      background-color: #E8F0FE;\n",
       "      border: none;\n",
       "      border-radius: 50%;\n",
       "      cursor: pointer;\n",
       "      display: none;\n",
       "      fill: #1967D2;\n",
       "      height: 32px;\n",
       "      padding: 0 0 0 0;\n",
       "      width: 32px;\n",
       "    }\n",
       "\n",
       "    .colab-df-convert:hover {\n",
       "      background-color: #E2EBFA;\n",
       "      box-shadow: 0px 1px 2px rgba(60, 64, 67, 0.3), 0px 1px 3px 1px rgba(60, 64, 67, 0.15);\n",
       "      fill: #174EA6;\n",
       "    }\n",
       "\n",
       "    [theme=dark] .colab-df-convert {\n",
       "      background-color: #3B4455;\n",
       "      fill: #D2E3FC;\n",
       "    }\n",
       "\n",
       "    [theme=dark] .colab-df-convert:hover {\n",
       "      background-color: #434B5C;\n",
       "      box-shadow: 0px 1px 3px 1px rgba(0, 0, 0, 0.15);\n",
       "      filter: drop-shadow(0px 1px 2px rgba(0, 0, 0, 0.3));\n",
       "      fill: #FFFFFF;\n",
       "    }\n",
       "  </style>\n",
       "\n",
       "      <script>\n",
       "        const buttonEl =\n",
       "          document.querySelector('#df-1c2d6ffc-3ef1-47fd-a39d-1239b6da61d1 button.colab-df-convert');\n",
       "        buttonEl.style.display =\n",
       "          google.colab.kernel.accessAllowed ? 'block' : 'none';\n",
       "\n",
       "        async function convertToInteractive(key) {\n",
       "          const element = document.querySelector('#df-1c2d6ffc-3ef1-47fd-a39d-1239b6da61d1');\n",
       "          const dataTable =\n",
       "            await google.colab.kernel.invokeFunction('convertToInteractive',\n",
       "                                                     [key], {});\n",
       "          if (!dataTable) return;\n",
       "\n",
       "          const docLinkHtml = 'Like what you see? Visit the ' +\n",
       "            '<a target=\"_blank\" href=https://colab.research.google.com/notebooks/data_table.ipynb>data table notebook</a>'\n",
       "            + ' to learn more about interactive tables.';\n",
       "          element.innerHTML = '';\n",
       "          dataTable['output_type'] = 'display_data';\n",
       "          await google.colab.output.renderOutput(dataTable, element);\n",
       "          const docLink = document.createElement('div');\n",
       "          docLink.innerHTML = docLinkHtml;\n",
       "          element.appendChild(docLink);\n",
       "        }\n",
       "      </script>\n",
       "    </div>\n",
       "  </div>\n",
       "  "
      ],
      "text/plain": [
       "          f1        f2        f3        f4\n",
       "f1  1.000000  0.907353  0.948818  0.924888\n",
       "f2  0.907353  1.000000  0.838732  0.816680\n",
       "f3  0.948818  0.838732  1.000000  0.939743\n",
       "f4  0.924888  0.816680  0.939743  1.000000"
      ]
     },
     "execution_count": 13,
     "metadata": {},
     "output_type": "execute_result"
    }
   ],
   "source": [
    "new_data.iloc[:,1:5].corr()"
   ]
  },
  {
   "cell_type": "code",
   "execution_count": 14,
   "metadata": {
    "colab": {
     "base_uri": "https://localhost:8080/"
    },
    "id": "TuGhojXOYjrL",
    "outputId": "a1da91b9-648d-4a76-adde-bc21771dc16a"
   },
   "outputs": [
    {
     "data": {
      "text/plain": [
       "Unnamed: 0    0\n",
       "f1            0\n",
       "f2            0\n",
       "f3            0\n",
       "f4            0\n",
       "f5            0\n",
       "f6            0\n",
       "f7            0\n",
       "f8            0\n",
       "f9            0\n",
       "f10           0\n",
       "f11           0\n",
       "f12           0\n",
       "f13           0\n",
       "f14           0\n",
       "f15           0\n",
       "f16           0\n",
       "f17           0\n",
       "f18           0\n",
       "f19           0\n",
       "f20           0\n",
       "f21           0\n",
       "f22           0\n",
       "f23           0\n",
       "Class         0\n",
       "dtype: int64"
      ]
     },
     "execution_count": 14,
     "metadata": {},
     "output_type": "execute_result"
    }
   ],
   "source": [
    "new_data.isnull().sum()"
   ]
  },
  {
   "cell_type": "code",
   "execution_count": 15,
   "metadata": {
    "id": "7Jr-47UZYtAB"
   },
   "outputs": [],
   "source": [
    "dataX=new_data.drop('Class',axis=1)\n",
    "dataY=new_data['Class']"
   ]
  },
  {
   "cell_type": "code",
   "execution_count": 16,
   "metadata": {
    "id": "cJ8--1l2Zy6r"
   },
   "outputs": [],
   "source": [
    "X_train,X_test,y_train,y_test=train_test_split(dataX,dataY,test_size=0.2,random_state=0)"
   ]
  },
  {
   "cell_type": "code",
   "execution_count": 17,
   "metadata": {
    "colab": {
     "base_uri": "https://localhost:8080/"
    },
    "id": "g87He5duaCeo",
    "outputId": "85db442e-dee7-406d-f8d2-ec9543e6566e"
   },
   "outputs": [
    {
     "name": "stdout",
     "output_type": "stream",
     "text": [
      "X_train (581, 24)\n",
      "X_test (146, 24)\n",
      "y_train (581,)\n",
      "y_test (146,)\n"
     ]
    }
   ],
   "source": [
    "print('X_train',X_train.shape)\n",
    "print('X_test',X_test.shape)\n",
    "print('y_train',y_train.shape)\n",
    "print('y_test',y_test.shape)"
   ]
  },
  {
   "cell_type": "code",
   "execution_count": 18,
   "metadata": {
    "id": "JKj5H1JxaH-6"
   },
   "outputs": [],
   "source": [
    "sc=StandardScaler()\n",
    "X_train=sc.fit_transform(X_train)\n",
    "X_test=sc.transform(X_test)"
   ]
  },
  {
   "cell_type": "code",
   "execution_count": 19,
   "metadata": {
    "id": "14dVzj0EbrpQ"
   },
   "outputs": [],
   "source": [
    "from sklearn.decomposition import PCA\n",
    "pca=PCA(n_components=19)\n",
    "X_train=pca.fit_transform(X_train)\n",
    "X_test=pca.transform(X_test)"
   ]
  },
  {
   "cell_type": "code",
   "execution_count": 35,
   "metadata": {
    "colab": {
     "base_uri": "https://localhost:8080/"
    },
    "id": "503WJKLWb_Gh",
    "outputId": "8c50c710-d0b3-4da9-f60b-b01413a395c2"
   },
   "outputs": [
    {
     "name": "stdout",
     "output_type": "stream",
     "text": [
      "X_train (581, 19)\n",
      "X_test (146, 19)\n",
      "y_train (581, 1)\n",
      "y_test (146, 1)\n"
     ]
    }
   ],
   "source": [
    "print('X_train',X_train.shape)\n",
    "print('X_test',X_test.shape)\n",
    "print('y_train',y_train.shape)\n",
    "print('y_test',y_test.shape)"
   ]
  },
  {
   "cell_type": "code",
   "execution_count": 36,
   "metadata": {
    "id": "Ha1E6xCFcFew"
   },
   "outputs": [],
   "source": [
    "X_train=pd.DataFrame(data=X_train,columns=['f1','f2','f3','f4','f5','f6','f7','f8','f9','f10','f11','f12','f13','f14','f15','f16','f17','f18','f19'])\n",
    "X_test=pd.DataFrame(data=X_test,columns=['f1','f2','f3','f4','f5','f6','f7','f8','f9','f10','f11','f12','f13','f14','f15','f16','f17','f18','f19'])"
   ]
  },
  {
   "cell_type": "code",
   "execution_count": 41,
   "metadata": {
    "colab": {
     "base_uri": "https://localhost:8080/"
    },
    "id": "KEbpAw4_cYwR",
    "outputId": "4726a315-4a75-4d5e-ad42-b16603048775"
   },
   "outputs": [
    {
     "name": "stdout",
     "output_type": "stream",
     "text": [
      "X_train (581, 19)\n",
      "X_test (146, 19)\n",
      "y_train (581, 1)\n",
      "y_test (146, 1)\n"
     ]
    }
   ],
   "source": [
    "print('X_train',X_train.shape)\n",
    "print('X_test',X_test.shape)\n",
    "print('y_train',y_train.shape)\n",
    "print('y_test',y_test.shape)"
   ]
  },
  {
   "cell_type": "code",
   "execution_count": null,
   "metadata": {
    "id": "KsX04fkmdZ4F"
   },
   "outputs": [],
   "source": []
  },
  {
   "cell_type": "code",
   "execution_count": 42,
   "metadata": {
    "id": "XIrPwjv7cY-V"
   },
   "outputs": [],
   "source": [
    "def plot_roc_(false_positive_rate,true_positive_rate,roc_auc):\n",
    "    plt.figure(figsize=(5,5))\n",
    "    plt.title('Receiver Operating Characteristic')\n",
    "    plt.plot(false_positive_rate,true_positive_rate, color='red',label = 'AUC = %0.2f' % roc_auc)\n",
    "    plt.legend(loc = 'lower right')\n",
    "    plt.plot([0, 1], [0, 1],linestyle='--')\n",
    "    plt.axis('tight')\n",
    "    plt.ylabel('True Positive Rate')\n",
    "    plt.xlabel('False Positive Rate')\n",
    "    plt.show()"
   ]
  },
  {
   "cell_type": "code",
   "execution_count": 39,
   "metadata": {
    "id": "CHxdcO-8cik3"
   },
   "outputs": [],
   "source": [
    "def plot_feature_importances(gbm):\n",
    "    n_features = X_train.shape[1]\n",
    "    plt.barh(range(n_features), gbm.feature_importances_, align='center')\n",
    "    plt.yticks(np.arange(n_features), X_train.columns)\n",
    "    plt.xlabel(\"Feature importance\")\n",
    "    plt.ylabel(\"Feature\")\n",
    "    plt.ylim(-1, n_features)"
   ]
  },
  {
   "cell_type": "code",
   "execution_count": 43,
   "metadata": {
    "id": "drwINtuUcoIR"
   },
   "outputs": [],
   "source": [
    "combine_features_list=[\n",
    "    ('f1','f2','f3','f4','f5','f6'),\n",
    "    ('f6','f7','f8','f9','f10','f11'),\n",
    "    ('f9','f10','f11','f12','f13','f14'),\n",
    "    ('f15','f16','f17','f18','f19')\n",
    "]"
   ]
  },
  {
   "cell_type": "code",
   "execution_count": 61,
   "metadata": {
    "colab": {
     "base_uri": "https://localhost:8080/"
    },
    "id": "RSP6soHFcwoh",
    "outputId": "2f527a89-3d19-476f-f7ca-2b2d4c25c5e2"
   },
   "outputs": [
    {
     "name": "stdout",
     "output_type": "stream",
     "text": [
      "('f1', 'f2', 'f3', 'f4', 'f5', 'f6')\n",
      "**************************************************\n"
     ]
    },
    {
     "name": "stderr",
     "output_type": "stream",
     "text": [
      "/usr/local/lib/python3.9/dist-packages/sklearn/model_selection/_validation.py:378: FitFailedWarning: \n",
      "15 fits failed out of a total of 30.\n",
      "The score on these train-test partitions for these parameters will be set to nan.\n",
      "If these failures are not expected, you can try to debug them by setting error_score='raise'.\n",
      "\n",
      "Below are more details about the failures:\n",
      "--------------------------------------------------------------------------------\n",
      "15 fits failed with the following error:\n",
      "Traceback (most recent call last):\n",
      "  File \"/usr/local/lib/python3.9/dist-packages/sklearn/model_selection/_validation.py\", line 686, in _fit_and_score\n",
      "    estimator.fit(X_train, y_train, **fit_params)\n",
      "  File \"/usr/local/lib/python3.9/dist-packages/sklearn/linear_model/_logistic.py\", line 1162, in fit\n",
      "    solver = _check_solver(self.solver, self.penalty, self.dual)\n",
      "  File \"/usr/local/lib/python3.9/dist-packages/sklearn/linear_model/_logistic.py\", line 54, in _check_solver\n",
      "    raise ValueError(\n",
      "ValueError: Solver lbfgs supports only 'l2' or 'none' penalties, got l1 penalty.\n",
      "\n",
      "  warnings.warn(some_fits_failed_message, FitFailedWarning)\n",
      "/usr/local/lib/python3.9/dist-packages/sklearn/model_selection/_search.py:952: UserWarning: One or more of the test scores are non-finite: [       nan 0.81405836        nan 0.8071618         nan 0.8071618 ]\n",
      "  warnings.warn(\n"
     ]
    },
    {
     "name": "stdout",
     "output_type": "stream",
     "text": [
      "Best parameters set:\n",
      "{'C': 0.1, 'penalty': 'l2', 'random_state': 0}\n",
      "\n",
      "Train Classification Report:\n",
      "**************************************************\n",
      "              precision    recall  f1-score   support\n",
      "\n",
      "           0       0.79      0.68      0.73       211\n",
      "           1       0.83      0.90      0.86       370\n",
      "\n",
      "    accuracy                           0.82       581\n",
      "   macro avg       0.81      0.79      0.80       581\n",
      "weighted avg       0.82      0.82      0.82       581\n",
      "\n",
      "**************************************************\n",
      "Train Confusion Matrix:\n",
      "[[144  67]\n",
      " [ 38 332]]\n",
      "**************************************************\n",
      "Test1 Classification Report:\n",
      "**************************************************\n",
      "              precision    recall  f1-score   support\n",
      "\n",
      "           0       0.83      0.64      0.72        59\n",
      "           1       0.79      0.91      0.84        87\n",
      "\n",
      "    accuracy                           0.80       146\n",
      "   macro avg       0.81      0.78      0.78       146\n",
      "weighted avg       0.80      0.80      0.80       146\n",
      "\n",
      "**************************************************\n",
      "Test1 Confusion Matrix:\n",
      "[[38 21]\n",
      " [ 8 79]]\n",
      "**************************************************\n",
      "**************************************************\n",
      "0.8483560090702947\n",
      "0.05345357106060092\n",
      "**************************************************\n",
      "('f6', 'f7', 'f8', 'f9', 'f10', 'f11')\n",
      "**************************************************\n",
      "Best parameters set:\n",
      "{'C': 0.5, 'penalty': 'l2', 'random_state': 0}\n",
      "\n",
      "Train Classification Report:\n",
      "**************************************************\n",
      "              precision    recall  f1-score   support\n",
      "\n",
      "           0       0.75      0.67      0.71       211\n",
      "           1       0.82      0.87      0.85       370\n",
      "\n",
      "    accuracy                           0.80       581\n",
      "   macro avg       0.79      0.77      0.78       581\n",
      "weighted avg       0.80      0.80      0.80       581\n",
      "\n",
      "**************************************************\n",
      "Train Confusion Matrix:\n",
      "[[142  69]\n",
      " [ 47 323]]\n",
      "**************************************************\n",
      "Test1 Classification Report:\n",
      "**************************************************\n",
      "              precision    recall  f1-score   support\n",
      "\n",
      "           0       0.79      0.58      0.67        59\n",
      "           1       0.76      0.90      0.82        87\n",
      "\n",
      "    accuracy                           0.77       146\n",
      "   macro avg       0.77      0.74      0.74       146\n",
      "weighted avg       0.77      0.77      0.76       146\n",
      "\n",
      "**************************************************\n",
      "Test1 Confusion Matrix:\n"
     ]
    },
    {
     "name": "stderr",
     "output_type": "stream",
     "text": [
      "/usr/local/lib/python3.9/dist-packages/sklearn/model_selection/_validation.py:378: FitFailedWarning: \n",
      "15 fits failed out of a total of 30.\n",
      "The score on these train-test partitions for these parameters will be set to nan.\n",
      "If these failures are not expected, you can try to debug them by setting error_score='raise'.\n",
      "\n",
      "Below are more details about the failures:\n",
      "--------------------------------------------------------------------------------\n",
      "15 fits failed with the following error:\n",
      "Traceback (most recent call last):\n",
      "  File \"/usr/local/lib/python3.9/dist-packages/sklearn/model_selection/_validation.py\", line 686, in _fit_and_score\n",
      "    estimator.fit(X_train, y_train, **fit_params)\n",
      "  File \"/usr/local/lib/python3.9/dist-packages/sklearn/linear_model/_logistic.py\", line 1162, in fit\n",
      "    solver = _check_solver(self.solver, self.penalty, self.dual)\n",
      "  File \"/usr/local/lib/python3.9/dist-packages/sklearn/linear_model/_logistic.py\", line 54, in _check_solver\n",
      "    raise ValueError(\n",
      "ValueError: Solver lbfgs supports only 'l2' or 'none' penalties, got l1 penalty.\n",
      "\n",
      "  warnings.warn(some_fits_failed_message, FitFailedWarning)\n",
      "/usr/local/lib/python3.9/dist-packages/sklearn/model_selection/_search.py:952: UserWarning: One or more of the test scores are non-finite: [       nan 0.78314176        nan 0.78311229        nan 0.78654583]\n",
      "  warnings.warn(\n"
     ]
    },
    {
     "name": "stdout",
     "output_type": "stream",
     "text": [
      "[[34 25]\n",
      " [ 9 78]]\n",
      "**************************************************\n",
      "**************************************************\n",
      "0.8483560090702947\n",
      "0.05345357106060092\n",
      "**************************************************\n",
      "('f9', 'f10', 'f11', 'f12', 'f13', 'f14')\n",
      "**************************************************\n",
      "Best parameters set:\n",
      "{'C': 0.4, 'penalty': 'l2', 'random_state': 0}\n",
      "\n",
      "Train Classification Report:\n",
      "**************************************************\n",
      "              precision    recall  f1-score   support\n",
      "\n",
      "           0       0.62      0.15      0.24       211\n",
      "           1       0.66      0.95      0.78       370\n",
      "\n",
      "    accuracy                           0.66       581\n",
      "   macro avg       0.64      0.55      0.51       581\n",
      "weighted avg       0.64      0.66      0.58       581\n",
      "\n",
      "**************************************************\n",
      "Train Confusion Matrix:\n",
      "[[ 32 179]\n",
      " [ 20 350]]\n",
      "**************************************************\n",
      "Test1 Classification Report:\n",
      "**************************************************\n",
      "              precision    recall  f1-score   support\n",
      "\n",
      "           0       0.60      0.10      0.17        59\n",
      "           1       0.61      0.95      0.74        87\n",
      "\n",
      "    accuracy                           0.61       146\n",
      "   macro avg       0.61      0.53      0.46       146\n",
      "weighted avg       0.61      0.61      0.51       146\n",
      "\n",
      "**************************************************\n",
      "Test1 Confusion Matrix:\n",
      "[[ 6 53]\n",
      " [ 4 83]]\n",
      "**************************************************\n",
      "**************************************************\n"
     ]
    },
    {
     "name": "stderr",
     "output_type": "stream",
     "text": [
      "/usr/local/lib/python3.9/dist-packages/sklearn/model_selection/_validation.py:378: FitFailedWarning: \n",
      "15 fits failed out of a total of 30.\n",
      "The score on these train-test partitions for these parameters will be set to nan.\n",
      "If these failures are not expected, you can try to debug them by setting error_score='raise'.\n",
      "\n",
      "Below are more details about the failures:\n",
      "--------------------------------------------------------------------------------\n",
      "15 fits failed with the following error:\n",
      "Traceback (most recent call last):\n",
      "  File \"/usr/local/lib/python3.9/dist-packages/sklearn/model_selection/_validation.py\", line 686, in _fit_and_score\n",
      "    estimator.fit(X_train, y_train, **fit_params)\n",
      "  File \"/usr/local/lib/python3.9/dist-packages/sklearn/linear_model/_logistic.py\", line 1162, in fit\n",
      "    solver = _check_solver(self.solver, self.penalty, self.dual)\n",
      "  File \"/usr/local/lib/python3.9/dist-packages/sklearn/linear_model/_logistic.py\", line 54, in _check_solver\n",
      "    raise ValueError(\n",
      "ValueError: Solver lbfgs supports only 'l2' or 'none' penalties, got l1 penalty.\n",
      "\n",
      "  warnings.warn(some_fits_failed_message, FitFailedWarning)\n",
      "/usr/local/lib/python3.9/dist-packages/sklearn/model_selection/_search.py:952: UserWarning: One or more of the test scores are non-finite: [       nan 0.64372237        nan 0.64889478        nan 0.64712644]\n",
      "  warnings.warn(\n"
     ]
    },
    {
     "name": "stdout",
     "output_type": "stream",
     "text": [
      "0.8483560090702947\n",
      "0.05345357106060092\n",
      "**************************************************\n",
      "('f15', 'f16', 'f17', 'f18', 'f19')\n",
      "**************************************************\n",
      "Best parameters set:\n",
      "{'C': 0.1, 'penalty': 'l2', 'random_state': 0}\n",
      "\n",
      "Train Classification Report:\n",
      "**************************************************\n",
      "              precision    recall  f1-score   support\n",
      "\n",
      "           0       0.00      0.00      0.00       211\n",
      "           1       0.64      1.00      0.78       370\n",
      "\n",
      "    accuracy                           0.64       581\n",
      "   macro avg       0.32      0.50      0.39       581\n",
      "weighted avg       0.41      0.64      0.50       581\n",
      "\n",
      "**************************************************\n",
      "Train Confusion Matrix:\n",
      "[[  0 211]\n",
      " [  0 370]]\n",
      "**************************************************\n",
      "Test1 Classification Report:\n",
      "**************************************************\n"
     ]
    },
    {
     "name": "stderr",
     "output_type": "stream",
     "text": [
      "/usr/local/lib/python3.9/dist-packages/sklearn/model_selection/_validation.py:378: FitFailedWarning: \n",
      "15 fits failed out of a total of 30.\n",
      "The score on these train-test partitions for these parameters will be set to nan.\n",
      "If these failures are not expected, you can try to debug them by setting error_score='raise'.\n",
      "\n",
      "Below are more details about the failures:\n",
      "--------------------------------------------------------------------------------\n",
      "15 fits failed with the following error:\n",
      "Traceback (most recent call last):\n",
      "  File \"/usr/local/lib/python3.9/dist-packages/sklearn/model_selection/_validation.py\", line 686, in _fit_and_score\n",
      "    estimator.fit(X_train, y_train, **fit_params)\n",
      "  File \"/usr/local/lib/python3.9/dist-packages/sklearn/linear_model/_logistic.py\", line 1162, in fit\n",
      "    solver = _check_solver(self.solver, self.penalty, self.dual)\n",
      "  File \"/usr/local/lib/python3.9/dist-packages/sklearn/linear_model/_logistic.py\", line 54, in _check_solver\n",
      "    raise ValueError(\n",
      "ValueError: Solver lbfgs supports only 'l2' or 'none' penalties, got l1 penalty.\n",
      "\n",
      "  warnings.warn(some_fits_failed_message, FitFailedWarning)\n",
      "/usr/local/lib/python3.9/dist-packages/sklearn/model_selection/_search.py:952: UserWarning: One or more of the test scores are non-finite: [       nan 0.63684055        nan 0.63684055        nan 0.63684055]\n",
      "  warnings.warn(\n",
      "/usr/local/lib/python3.9/dist-packages/sklearn/metrics/_classification.py:1344: UndefinedMetricWarning: Precision and F-score are ill-defined and being set to 0.0 in labels with no predicted samples. Use `zero_division` parameter to control this behavior.\n",
      "  _warn_prf(average, modifier, msg_start, len(result))\n",
      "/usr/local/lib/python3.9/dist-packages/sklearn/metrics/_classification.py:1344: UndefinedMetricWarning: Precision and F-score are ill-defined and being set to 0.0 in labels with no predicted samples. Use `zero_division` parameter to control this behavior.\n",
      "  _warn_prf(average, modifier, msg_start, len(result))\n",
      "/usr/local/lib/python3.9/dist-packages/sklearn/metrics/_classification.py:1344: UndefinedMetricWarning: Precision and F-score are ill-defined and being set to 0.0 in labels with no predicted samples. Use `zero_division` parameter to control this behavior.\n",
      "  _warn_prf(average, modifier, msg_start, len(result))\n",
      "/usr/local/lib/python3.9/dist-packages/sklearn/metrics/_classification.py:1344: UndefinedMetricWarning: Precision and F-score are ill-defined and being set to 0.0 in labels with no predicted samples. Use `zero_division` parameter to control this behavior.\n",
      "  _warn_prf(average, modifier, msg_start, len(result))\n",
      "/usr/local/lib/python3.9/dist-packages/sklearn/metrics/_classification.py:1344: UndefinedMetricWarning: Precision and F-score are ill-defined and being set to 0.0 in labels with no predicted samples. Use `zero_division` parameter to control this behavior.\n",
      "  _warn_prf(average, modifier, msg_start, len(result))\n",
      "/usr/local/lib/python3.9/dist-packages/sklearn/metrics/_classification.py:1344: UndefinedMetricWarning: Precision and F-score are ill-defined and being set to 0.0 in labels with no predicted samples. Use `zero_division` parameter to control this behavior.\n",
      "  _warn_prf(average, modifier, msg_start, len(result))\n"
     ]
    },
    {
     "name": "stdout",
     "output_type": "stream",
     "text": [
      "              precision    recall  f1-score   support\n",
      "\n",
      "           0       0.00      0.00      0.00        59\n",
      "           1       0.60      1.00      0.75        87\n",
      "\n",
      "    accuracy                           0.60       146\n",
      "   macro avg       0.30      0.50      0.37       146\n",
      "weighted avg       0.36      0.60      0.44       146\n",
      "\n",
      "**************************************************\n",
      "Test1 Confusion Matrix:\n",
      "[[ 0 59]\n",
      " [ 0 87]]\n",
      "**************************************************\n",
      "**************************************************\n",
      "0.8483560090702947\n",
      "0.05345357106060092\n",
      "**************************************************\n"
     ]
    }
   ],
   "source": [
    "parameters=[\n",
    "{\n",
    "    'penalty':['l1','l2'],\n",
    "    'C':[0.1,0.4,0.5],\n",
    "    'random_state':[0]\n",
    "    \n",
    "    },\n",
    "]\n",
    "\n",
    "for features in combine_features_list:\n",
    "    print(features)\n",
    "    print(\"*\"*50)\n",
    "    \n",
    "    X_train_set=X_train.loc[:,features]\n",
    "    X_test_set=X_test.loc[:,features]\n",
    "    \n",
    "    gslog=GridSearchCV(LogisticRegression(),parameters,scoring='accuracy')\n",
    "    y_train= y_train.ravel()\n",
    "    gslog.fit(X_train_set,y_train)\n",
    "    print('Best parameters set:')\n",
    "    print(gslog.best_params_)\n",
    "    print()\n",
    "    predictions=[\n",
    "    (gslog.predict(X_train_set),y_train,'Train'),\n",
    "    (gslog.predict(X_test_set),y_test,'Test1'),\n",
    "    ]\n",
    "    \n",
    "    for pred in predictions:\n",
    "        print(pred[2] + ' Classification Report:')\n",
    "        print(\"*\"*50)\n",
    "        print(classification_report(pred[1],pred[0]))\n",
    "        print(\"*\"*50)\n",
    "        print(pred[2] + ' Confusion Matrix:')\n",
    "        print(confusion_matrix(pred[1], pred[0]))\n",
    "        print(\"*\"*50)\n",
    "\n",
    "    print(\"*\"*50)    \n",
    "    basari=cross_val_score(estimator=LogisticRegression(),X=X_train,y=y_train,cv=12)\n",
    "    print(basari.mean())\n",
    "    print(basari.std())\n",
    "    print(\"*\"*50)"
   ]
  },
  {
   "cell_type": "code",
   "execution_count": 62,
   "metadata": {
    "colab": {
     "base_uri": "https://localhost:8080/",
     "height": 350
    },
    "id": "sqG1QiL8c8GE",
    "outputId": "c60b8caf-a5f3-4956-afd5-4e60eb3b5899"
   },
   "outputs": [
    {
     "data": {
      "image/png": "[encoded data removed]",
      "text/plain": [
       "<Figure size 360x360 with 1 Axes>"
      ]
     },
     "metadata": {
      "needs_background": "light"
     },
     "output_type": "display_data"
    }
   ],
   "source": [
    "from sklearn.linear_model import LogisticRegression\n",
    "\n",
    "lr=LogisticRegression(C=0.1,penalty='l2',random_state=0)\n",
    "lr.fit(X_train,y_train)\n",
    "\n",
    "y_pred=lr.predict(X_test)\n",
    "\n",
    "\n",
    "y_proba=lr.predict_proba(X_test)\n",
    "\n",
    "false_positive_rate, true_positive_rate, thresholds = roc_curve(y_test,y_proba[:,1])\n",
    "roc_auc = auc(false_positive_rate, true_positive_rate)\n",
    "plot_roc_(false_positive_rate,true_positive_rate,roc_auc)"
   ]
  },
  {
   "cell_type": "code",
   "execution_count": 76,
   "metadata": {
    "colab": {
     "base_uri": "https://localhost:8080/",
     "height": 554
    },
    "id": "i21h4uWNdFd0",
    "outputId": "56b1c68e-86b8-483a-d393-0052407517cb"
   },
   "outputs": [
    {
     "name": "stdout",
     "output_type": "stream",
     "text": [
      "              precision    recall  f1-score   support\n",
      "\n",
      "           0       0.96      0.88      0.92        59\n",
      "           1       0.92      0.98      0.95        87\n",
      "\n",
      "    accuracy                           0.94       146\n",
      "   macro avg       0.94      0.93      0.94       146\n",
      "weighted avg       0.94      0.94      0.94       146\n",
      "\n",
      "Accurancy Oranı : 0.9383561643835616\n",
      "Logistic TRAIN score with  0.8605851979345955\n",
      "Logistic TEST score with  0.8424657534246576\n",
      "\n",
      "Sensitivity: 0.9770114942528736\n",
      "Specificity: 0.8813559322033898\n",
      "[[52  7]\n",
      " [ 2 85]]\n"
     ]
    },
    {
     "data": {
      "image/png": "[encoded data removed]",
      "text/plain": [
       "<Figure size 432x288 with 2 Axes>"
      ]
     },
     "metadata": {
      "needs_background": "light"
     },
     "output_type": "display_data"
    }
   ],
   "source": [
    "from sklearn.metrics import r2_score,accuracy_score\n",
    "\n",
    "print(classification_report(y_test, y_pred))\n",
    "print('Accurancy Oranı :',accuracy_score(y_test, y_pred))\n",
    "print(\"Logistic TRAIN score with \",format(lr.score(X_train, y_train)))\n",
    "print(\"Logistic TEST score with \",format(lr.score(X_test, y_test)))\n",
    "print()\n",
    "tn, fp, fn, tp = confusion_matrix(y_test, y_pred).ravel()\n",
    "\n",
    "# calculate sensitivity and specificity\n",
    "sensitivity = tp / (tp + fn)\n",
    "specificity = tn / (tn + fp)\n",
    "\n",
    "# print the results\n",
    "print(\"Sensitivity:\", sensitivity)\n",
    "print(\"Specificity:\", specificity)\n",
    "\n",
    "cm=confusion_matrix(y_test,y_pred)\n",
    "print(cm)\n",
    "sns.heatmap(cm,annot=True)\n",
    "plt.show()\n"
   ]
  },
  {
   "cell_type": "code",
   "execution_count": 78,
   "metadata": {
    "colab": {
     "base_uri": "https://localhost:8080/"
    },
    "id": "zJ3stqdKLmMX",
    "outputId": "83470b32-c1d5-4111-81b2-bb7c9bf52762"
   },
   "outputs": [
    {
     "name": "stdout",
     "output_type": "stream",
     "text": [
      "**************************************************\n",
      "**************************************************\n",
      "Best parameters set:\n",
      "{'n_jobs': 2, 'n_neighbors': 16}\n",
      "**************************************************\n",
      "Train Classification Report:\n",
      "**************************************************\n",
      "              precision    recall  f1-score   support\n",
      "\n",
      "           0       0.86      0.80      0.83       211\n",
      "           1       0.89      0.93      0.91       370\n",
      "\n",
      "    accuracy                           0.88       581\n",
      "   macro avg       0.88      0.86      0.87       581\n",
      "weighted avg       0.88      0.88      0.88       581\n",
      "\n",
      "**************************************************\n",
      "Train Confusion Matrix:\n",
      "[[169  42]\n",
      " [ 27 343]]\n",
      "**************************************************\n",
      "Test1 Classification Report:\n",
      "**************************************************\n",
      "              precision    recall  f1-score   support\n",
      "\n",
      "           0       0.87      0.81      0.84        59\n",
      "           1       0.88      0.92      0.90        87\n",
      "\n",
      "    accuracy                           0.88       146\n",
      "   macro avg       0.88      0.87      0.87       146\n",
      "weighted avg       0.88      0.88      0.88       146\n",
      "\n",
      "**************************************************\n",
      "Test1 Confusion Matrix:\n",
      "[[48 11]\n",
      " [ 7 80]]\n",
      "**************************************************\n",
      "**************************************************\n",
      "0.8364866780045354\n",
      "0.030743088082140605\n",
      "**************************************************\n",
      "**************************************************\n",
      "Best parameters set:\n",
      "{'n_jobs': 2, 'n_neighbors': 16}\n",
      "**************************************************\n",
      "Train Classification Report:\n",
      "**************************************************\n",
      "              precision    recall  f1-score   support\n",
      "\n",
      "           0       0.85      0.79      0.82       211\n",
      "           1       0.89      0.92      0.90       370\n",
      "\n",
      "    accuracy                           0.87       581\n",
      "   macro avg       0.87      0.86      0.86       581\n",
      "weighted avg       0.87      0.87      0.87       581\n",
      "\n",
      "**************************************************\n",
      "Train Confusion Matrix:\n",
      "[[167  44]\n",
      " [ 30 340]]\n",
      "**************************************************\n",
      "Test1 Classification Report:\n",
      "**************************************************\n",
      "              precision    recall  f1-score   support\n",
      "\n",
      "           0       0.90      0.76      0.83        59\n",
      "           1       0.85      0.94      0.90        87\n",
      "\n",
      "    accuracy                           0.87       146\n",
      "   macro avg       0.88      0.85      0.86       146\n",
      "weighted avg       0.87      0.87      0.87       146\n",
      "\n",
      "**************************************************\n",
      "Test1 Confusion Matrix:\n",
      "[[45 14]\n",
      " [ 5 82]]\n",
      "**************************************************\n",
      "**************************************************\n",
      "0.8364866780045354\n",
      "0.030743088082140605\n",
      "**************************************************\n",
      "**************************************************\n",
      "Best parameters set:\n",
      "{'n_jobs': 2, 'n_neighbors': 14}\n",
      "**************************************************\n",
      "Train Classification Report:\n",
      "**************************************************\n",
      "              precision    recall  f1-score   support\n",
      "\n",
      "           0       0.62      0.45      0.52       211\n",
      "           1       0.73      0.84      0.78       370\n",
      "\n",
      "    accuracy                           0.70       581\n",
      "   macro avg       0.67      0.65      0.65       581\n",
      "weighted avg       0.69      0.70      0.69       581\n",
      "\n",
      "**************************************************\n",
      "Train Confusion Matrix:\n",
      "[[ 96 115]\n",
      " [ 59 311]]\n",
      "**************************************************\n",
      "Test1 Classification Report:\n",
      "**************************************************\n",
      "              precision    recall  f1-score   support\n",
      "\n",
      "           0       0.41      0.24      0.30        59\n",
      "           1       0.60      0.77      0.67        87\n",
      "\n",
      "    accuracy                           0.55       146\n",
      "   macro avg       0.50      0.50      0.49       146\n",
      "weighted avg       0.52      0.55      0.52       146\n",
      "\n",
      "**************************************************\n",
      "Test1 Confusion Matrix:\n",
      "[[14 45]\n",
      " [20 67]]\n",
      "**************************************************\n",
      "**************************************************\n",
      "0.8364866780045354\n",
      "0.030743088082140605\n",
      "**************************************************\n",
      "**************************************************\n",
      "Best parameters set:\n",
      "{'n_jobs': 2, 'n_neighbors': 3}\n",
      "**************************************************\n",
      "Train Classification Report:\n",
      "**************************************************\n",
      "              precision    recall  f1-score   support\n",
      "\n",
      "           0       0.80      0.62      0.70       211\n",
      "           1       0.81      0.91      0.86       370\n",
      "\n",
      "    accuracy                           0.81       581\n",
      "   macro avg       0.80      0.77      0.78       581\n",
      "weighted avg       0.80      0.81      0.80       581\n",
      "\n",
      "**************************************************\n",
      "Train Confusion Matrix:\n",
      "[[131  80]\n",
      " [ 33 337]]\n",
      "**************************************************\n",
      "Test1 Classification Report:\n",
      "**************************************************\n",
      "              precision    recall  f1-score   support\n",
      "\n",
      "           0       0.55      0.46      0.50        59\n",
      "           1       0.67      0.75      0.71        87\n",
      "\n",
      "    accuracy                           0.63       146\n",
      "   macro avg       0.61      0.60      0.60       146\n",
      "weighted avg       0.62      0.63      0.62       146\n",
      "\n",
      "**************************************************\n",
      "Test1 Confusion Matrix:\n",
      "[[27 32]\n",
      " [22 65]]\n",
      "**************************************************\n",
      "**************************************************\n",
      "0.8364866780045354\n",
      "0.030743088082140605\n",
      "**************************************************\n"
     ]
    }
   ],
   "source": [
    "import numpy as np\n",
    "parameters=[\n",
    "{\n",
    "    'n_neighbors':np.arange(2,33),\n",
    "    'n_jobs':[2,6]\n",
    "    },\n",
    "]\n",
    "print(\"*\"*50)\n",
    "for features in combine_features_list:\n",
    "    print(\"*\"*50)\n",
    "    \n",
    "    X_train_set=X_train.loc[:,features]\n",
    "    X_test_set=X_test.loc[:,features]\n",
    "   \n",
    "    gsknn=GridSearchCV(KNeighborsClassifier(),parameters,scoring='accuracy')\n",
    "    y_train= y_train.ravel()\n",
    "    gsknn.fit(X_train_set,y_train)\n",
    "    print('Best parameters set:')\n",
    "    print(gsknn.best_params_)\n",
    "    print(\"*\"*50)\n",
    "    predictions = [\n",
    "    (gsknn.predict(X_train_set), y_train, 'Train'),\n",
    "    (gsknn.predict(X_test_set), y_test, 'Test1')\n",
    "    ]\n",
    "    for pred in predictions:\n",
    "        print(pred[2] + ' Classification Report:')\n",
    "        print(\"*\"*50)\n",
    "        print(classification_report(pred[1], pred[0]))\n",
    "        print(\"*\"*50)\n",
    "        print(pred[2] + ' Confusion Matrix:')\n",
    "        print(confusion_matrix(pred[1], pred[0]))\n",
    "        print(\"*\"*50)\n",
    "        \n",
    "    print(\"*\"*50)    \n",
    "    basari=cross_val_score(estimator=KNeighborsClassifier(),X=X_train,y=y_train,cv=12)\n",
    "    print(basari.mean())\n",
    "    print(basari.std())\n",
    "    print(\"*\"*50) "
   ]
  },
  {
   "cell_type": "code",
   "execution_count": 79,
   "metadata": {
    "colab": {
     "base_uri": "https://localhost:8080/",
     "height": 887
    },
    "id": "rYwuUp8rL1o2",
    "outputId": "b182be18-1ba5-4f99-d2c5-d0cb32c2a3ac"
   },
   "outputs": [
    {
     "data": {
      "image/png": "[encoded data removed]",
      "text/plain": [
       "<Figure size 360x360 with 1 Axes>"
      ]
     },
     "metadata": {
      "needs_background": "light"
     },
     "output_type": "display_data"
    },
    {
     "name": "stdout",
     "output_type": "stream",
     "text": [
      "              precision    recall  f1-score   support\n",
      "\n",
      "           0       0.84      0.78      0.81        59\n",
      "           1       0.86      0.90      0.88        87\n",
      "\n",
      "    accuracy                           0.85       146\n",
      "   macro avg       0.85      0.84      0.84       146\n",
      "weighted avg       0.85      0.85      0.85       146\n",
      "\n",
      "Accurancy Oranı : 0.8493150684931506\n",
      "KNN TRAIN score with  0.8846815834767642\n",
      "KNN TEST score with  0.8493150684931506\n",
      "\n",
      "Sensitivity: 0.896551724137931\n",
      "Specificity: 0.7796610169491526\n",
      "[[46 13]\n",
      " [ 9 78]]\n"
     ]
    },
    {
     "data": {
      "image/png": "[encoded data removed]",
      "text/plain": [
       "<Figure size 432x288 with 2 Axes>"
      ]
     },
     "metadata": {
      "needs_background": "light"
     },
     "output_type": "display_data"
    }
   ],
   "source": [
    "knn=KNeighborsClassifier(n_jobs=2, n_neighbors=22)\n",
    "knn.fit(X_train,y_train)\n",
    "\n",
    "y_pred=knn.predict(X_test)\n",
    "\n",
    "y_proba=knn.predict_proba(X_test)\n",
    "false_positive_rate, true_positive_rate, thresholds = roc_curve(y_test,y_proba[:,1])\n",
    "roc_auc = auc(false_positive_rate, true_positive_rate)\n",
    "plot_roc_(false_positive_rate,true_positive_rate,roc_auc)\n",
    "\n",
    "from sklearn.metrics import r2_score,accuracy_score\n",
    "print(classification_report(y_test, y_pred))\n",
    "print('Accurancy Oranı :',accuracy_score(y_test, y_pred))\n",
    "print(\"KNN TRAIN score with \",format(knn.score(X_train, y_train)))\n",
    "print(\"KNN TEST score with \",format(knn.score(X_test, y_test)))\n",
    "print()\n",
    "# calculate sensitivity and specificity\n",
    "tn, fp, fn, tp = confusion_matrix(y_test, y_pred).ravel()\n",
    "sensitivity = tp / (tp + fn)\n",
    "specificity = tn / (tn + fp)\n",
    "\n",
    "# print the results\n",
    "print(\"Sensitivity:\", sensitivity)\n",
    "print(\"Specificity:\", specificity)\n",
    "\n",
    "cm=confusion_matrix(y_test,y_pred)\n",
    "print(cm)\n",
    "sns.heatmap(cm,annot=True)\n",
    "plt.show()"
   ]
  },
  {
   "cell_type": "code",
   "execution_count": 66,
   "metadata": {
    "colab": {
     "base_uri": "https://localhost:8080/",
     "height": 279
    },
    "id": "jEW14TkDMCEZ",
    "outputId": "f545434a-cf99-462b-a03c-0f14c421f9b5"
   },
   "outputs": [
    {
     "data": {
      "image/png": "[encoded data removed]",
      "text/plain": [
       "<Figure size 432x288 with 1 Axes>"
      ]
     },
     "metadata": {
      "needs_background": "light"
     },
     "output_type": "display_data"
    }
   ],
   "source": [
    "n_neighbors = range(1, 17)\n",
    "train_data_accuracy = []\n",
    "test1_data_accuracy = []\n",
    "for n_neigh in n_neighbors:\n",
    "    knn = KNeighborsClassifier(n_neighbors=n_neigh,n_jobs=5)\n",
    "    knn.fit(X_train, y_train)\n",
    "    train_data_accuracy.append(knn.score(X_train, y_train))\n",
    "    test1_data_accuracy.append(knn.score(X_test, y_test))\n",
    "plt.plot(n_neighbors, train_data_accuracy, label=\"Train Data Set\")\n",
    "plt.plot(n_neighbors, test1_data_accuracy, label=\"Test1 Data Set\")\n",
    "plt.ylabel(\"Accuracy\")\n",
    "plt.xlabel(\"Neighbors\")\n",
    "plt.legend()\n",
    "plt.show()"
   ]
  },
  {
   "cell_type": "code",
   "execution_count": 67,
   "metadata": {
    "colab": {
     "base_uri": "https://localhost:8080/"
    },
    "id": "8sbLpkaGMEPB",
    "outputId": "186604b4-d5aa-4b6a-aef5-f79bf203e37d"
   },
   "outputs": [
    {
     "name": "stdout",
     "output_type": "stream",
     "text": [
      "[0.831420068027211, 0.835034013605442, 0.8314909297052154, 0.8365929705215419, 0.8364866780045354, 0.8415532879818594, 0.8449900793650794, 0.8432539682539683, 0.8587372448979592, 0.8623866213151928, 0.8501629818594104, 0.8555130385487528, 0.8520408163265306, 0.8589498299319728, 0.867594954648526, 0.8537414965986394]\n"
     ]
    }
   ],
   "source": [
    "n_neighbors = range(1, 17)\n",
    "k_scores=[]\n",
    "for n_neigh in n_neighbors:\n",
    "    knn = KNeighborsClassifier(n_neighbors=n_neigh,n_jobs=5)\n",
    "    scores=cross_val_score(estimator=knn,X=X_train,y=y_train,cv=12)\n",
    "    k_scores.append(scores.mean())\n",
    "print(k_scores)"
   ]
  },
  {
   "cell_type": "code",
   "execution_count": 68,
   "metadata": {
    "colab": {
     "base_uri": "https://localhost:8080/",
     "height": 279
    },
    "id": "engN6KA-MLV8",
    "outputId": "9609a54c-d1eb-4b61-9054-d869eae0bd7e"
   },
   "outputs": [
    {
     "data": {
      "image/png": "[encoded data removed]",
      "text/plain": [
       "<Figure size 432x288 with 1 Axes>"
      ]
     },
     "metadata": {
      "needs_background": "light"
     },
     "output_type": "display_data"
    }
   ],
   "source": [
    "plt.plot(n_neighbors,k_scores)\n",
    "plt.xlabel('Value of k for KNN')\n",
    "plt.ylabel(\"Cross-Validated Accurancy\")\n",
    "plt.show()"
   ]
  },
  {
   "cell_type": "code",
   "execution_count": 69,
   "metadata": {
    "colab": {
     "base_uri": "https://localhost:8080/"
    },
    "id": "9IT_1g3bMTqH",
    "outputId": "e56d9081-8b50-4320-dc19-7e342dd26ea1"
   },
   "outputs": [
    {
     "name": "stdout",
     "output_type": "stream",
     "text": [
      "**************************************************\n",
      "Best parameters set:\n",
      "{'C': 6, 'degree': 2, 'gamma': 0.06, 'kernel': 'rbf', 'probability': True, 'random_state': 0}\n",
      "**************************************************\n",
      "Train Classification Report:\n",
      "**************************************************\n",
      "              precision    recall  f1-score   support\n",
      "\n",
      "           0       0.98      0.96      0.97       211\n",
      "           1       0.98      0.99      0.98       370\n",
      "\n",
      "    accuracy                           0.98       581\n",
      "   macro avg       0.98      0.97      0.98       581\n",
      "weighted avg       0.98      0.98      0.98       581\n",
      "\n",
      "**************************************************\n",
      "Train Confusion Matrix:\n",
      "[[203   8]\n",
      " [  5 365]]\n",
      "**************************************************\n",
      "Test1 Classification Report:\n",
      "**************************************************\n",
      "              precision    recall  f1-score   support\n",
      "\n",
      "           0       0.93      0.88      0.90        59\n",
      "           1       0.92      0.95      0.94        87\n",
      "\n",
      "    accuracy                           0.92       146\n",
      "   macro avg       0.93      0.92      0.92       146\n",
      "weighted avg       0.92      0.92      0.92       146\n",
      "\n",
      "**************************************************\n",
      "Test1 Confusion Matrix:\n",
      "[[52  7]\n",
      " [ 4 83]]\n",
      "**************************************************\n",
      "**************************************************\n",
      "0.9311525743977326\n",
      "0.008448992569013748\n",
      "**************************************************\n",
      "**************************************************\n",
      "Best parameters set:\n",
      "{'C': 2, 'degree': 2, 'gamma': 0.9, 'kernel': 'rbf', 'probability': True, 'random_state': 0}\n",
      "**************************************************\n",
      "Train Classification Report:\n",
      "**************************************************\n",
      "              precision    recall  f1-score   support\n",
      "\n",
      "           0       0.91      0.85      0.88       211\n",
      "           1       0.92      0.95      0.94       370\n",
      "\n",
      "    accuracy                           0.92       581\n",
      "   macro avg       0.92      0.90      0.91       581\n",
      "weighted avg       0.92      0.92      0.92       581\n",
      "\n",
      "**************************************************\n",
      "Train Confusion Matrix:\n",
      "[[180  31]\n",
      " [ 17 353]]\n",
      "**************************************************\n",
      "Test1 Classification Report:\n",
      "**************************************************\n",
      "              precision    recall  f1-score   support\n",
      "\n",
      "           0       0.88      0.73      0.80        59\n",
      "           1       0.84      0.93      0.88        87\n",
      "\n",
      "    accuracy                           0.85       146\n",
      "   macro avg       0.86      0.83      0.84       146\n",
      "weighted avg       0.85      0.85      0.85       146\n",
      "\n",
      "**************************************************\n",
      "Test1 Confusion Matrix:\n",
      "[[43 16]\n",
      " [ 6 81]]\n",
      "**************************************************\n",
      "**************************************************\n",
      "0.9311525743977326\n",
      "0.008448992569013748\n",
      "**************************************************\n",
      "**************************************************\n",
      "Best parameters set:\n",
      "{'C': 3, 'degree': 2, 'gamma': 0.3, 'kernel': 'rbf', 'probability': True, 'random_state': 0}\n",
      "**************************************************\n",
      "Train Classification Report:\n",
      "**************************************************\n",
      "              precision    recall  f1-score   support\n",
      "\n",
      "           0       1.00      0.10      0.18       211\n",
      "           1       0.66      1.00      0.80       370\n",
      "\n",
      "    accuracy                           0.67       581\n",
      "   macro avg       0.83      0.55      0.49       581\n",
      "weighted avg       0.78      0.67      0.57       581\n",
      "\n",
      "**************************************************\n",
      "Train Confusion Matrix:\n",
      "[[ 21 190]\n",
      " [  0 370]]\n",
      "**************************************************\n",
      "Test1 Classification Report:\n",
      "**************************************************\n",
      "              precision    recall  f1-score   support\n",
      "\n",
      "           0       0.33      0.05      0.09        59\n",
      "           1       0.59      0.93      0.72        87\n",
      "\n",
      "    accuracy                           0.58       146\n",
      "   macro avg       0.46      0.49      0.41       146\n",
      "weighted avg       0.49      0.58      0.47       146\n",
      "\n",
      "**************************************************\n",
      "Test1 Confusion Matrix:\n",
      "[[ 3 56]\n",
      " [ 6 81]]\n",
      "**************************************************\n",
      "**************************************************\n",
      "0.9311525743977326\n",
      "0.008448992569013748\n",
      "**************************************************\n",
      "**************************************************\n",
      "Best parameters set:\n",
      "{'kernel': 'linear', 'random_state': 2}\n",
      "**************************************************\n",
      "Train Classification Report:\n",
      "**************************************************\n",
      "              precision    recall  f1-score   support\n",
      "\n",
      "           0       0.00      0.00      0.00       211\n",
      "           1       0.64      1.00      0.78       370\n",
      "\n",
      "    accuracy                           0.64       581\n",
      "   macro avg       0.32      0.50      0.39       581\n",
      "weighted avg       0.41      0.64      0.50       581\n",
      "\n",
      "**************************************************\n",
      "Train Confusion Matrix:\n",
      "[[  0 211]\n",
      " [  0 370]]\n",
      "**************************************************\n",
      "Test1 Classification Report:\n",
      "**************************************************\n",
      "              precision    recall  f1-score   support\n",
      "\n",
      "           0       0.00      0.00      0.00        59\n",
      "           1       0.60      1.00      0.75        87\n",
      "\n",
      "    accuracy                           0.60       146\n",
      "   macro avg       0.30      0.50      0.37       146\n",
      "weighted avg       0.36      0.60      0.44       146\n",
      "\n",
      "**************************************************\n",
      "Test1 Confusion Matrix:\n",
      "[[ 0 59]\n",
      " [ 0 87]]\n",
      "**************************************************\n",
      "**************************************************\n",
      "0.9311525743977326\n",
      "0.008448992569013748\n",
      "**************************************************\n"
     ]
    },
    {
     "name": "stderr",
     "output_type": "stream",
     "text": [
      "/usr/local/lib/python3.9/dist-packages/sklearn/metrics/_classification.py:1344: UndefinedMetricWarning: Precision and F-score are ill-defined and being set to 0.0 in labels with no predicted samples. Use `zero_division` parameter to control this behavior.\n",
      "  _warn_prf(average, modifier, msg_start, len(result))\n",
      "/usr/local/lib/python3.9/dist-packages/sklearn/metrics/_classification.py:1344: UndefinedMetricWarning: Precision and F-score are ill-defined and being set to 0.0 in labels with no predicted samples. Use `zero_division` parameter to control this behavior.\n",
      "  _warn_prf(average, modifier, msg_start, len(result))\n",
      "/usr/local/lib/python3.9/dist-packages/sklearn/metrics/_classification.py:1344: UndefinedMetricWarning: Precision and F-score are ill-defined and being set to 0.0 in labels with no predicted samples. Use `zero_division` parameter to control this behavior.\n",
      "  _warn_prf(average, modifier, msg_start, len(result))\n",
      "/usr/local/lib/python3.9/dist-packages/sklearn/metrics/_classification.py:1344: UndefinedMetricWarning: Precision and F-score are ill-defined and being set to 0.0 in labels with no predicted samples. Use `zero_division` parameter to control this behavior.\n",
      "  _warn_prf(average, modifier, msg_start, len(result))\n",
      "/usr/local/lib/python3.9/dist-packages/sklearn/metrics/_classification.py:1344: UndefinedMetricWarning: Precision and F-score are ill-defined and being set to 0.0 in labels with no predicted samples. Use `zero_division` parameter to control this behavior.\n",
      "  _warn_prf(average, modifier, msg_start, len(result))\n",
      "/usr/local/lib/python3.9/dist-packages/sklearn/metrics/_classification.py:1344: UndefinedMetricWarning: Precision and F-score are ill-defined and being set to 0.0 in labels with no predicted samples. Use `zero_division` parameter to control this behavior.\n",
      "  _warn_prf(average, modifier, msg_start, len(result))\n"
     ]
    }
   ],
   "source": [
    "parameters = [\n",
    "    {\n",
    "        'kernel': ['linear'],\n",
    "        'random_state': [2]\n",
    "    },\n",
    "    {\n",
    "        'kernel': ['rbf'],\n",
    "        'gamma':[0.9,0.06,0.3],\n",
    "        'random_state': [0],\n",
    "        'C':[1,2,3,4,5,6],\n",
    "        'degree':[2],\n",
    "        'probability':[True]\n",
    "    },\n",
    "]\n",
    "\n",
    "for features in combine_features_list:\n",
    "    print(\"*\"*50)\n",
    "    X_train_set=X_train.loc[:,features]\n",
    "    X_test_set=X_test.loc[:,features]\n",
    "  \n",
    "    svc = GridSearchCV(SVC(), parameters,\n",
    "    scoring='accuracy')\n",
    "    svc.fit(X_train_set, y_train)\n",
    "    print('Best parameters set:')\n",
    "    print(svc.best_params_)\n",
    "    print(\"*\"*50)\n",
    "    predictions = [\n",
    "    (svc.predict(X_train_set), y_train, 'Train'),\n",
    "    (svc.predict(X_test_set), y_test, 'Test1')\n",
    "    ]\n",
    "    for pred in predictions:\n",
    "        print(pred[2] + ' Classification Report:')\n",
    "        print(\"*\"*50)\n",
    "        print(classification_report(pred[1], pred[0]))\n",
    "        print(\"*\"*50)\n",
    "        print(pred[2] + ' Confusion Matrix:')\n",
    "        print(confusion_matrix(pred[1], pred[0]))\n",
    "        print(\"*\"*50)\n",
    "        \n",
    "    print(\"*\"*50)    \n",
    "    basari=cross_val_score(estimator=SVC(),X=X_train,y=y_train,cv=4)\n",
    "    print(basari.mean())\n",
    "    print(basari.std())\n",
    "    print(\"*\"*50)"
   ]
  },
  {
   "cell_type": "code",
   "execution_count": 75,
   "metadata": {
    "colab": {
     "base_uri": "https://localhost:8080/",
     "height": 887
    },
    "id": "pO7B4W1ZMp8S",
    "outputId": "2ce8178d-5558-4a07-edf9-58f22fde4c36"
   },
   "outputs": [
    {
     "data": {
      "image/png": "[encoded data removed]",
      "text/plain": [
       "<Figure size 360x360 with 1 Axes>"
      ]
     },
     "metadata": {
      "needs_background": "light"
     },
     "output_type": "display_data"
    },
    {
     "name": "stdout",
     "output_type": "stream",
     "text": [
      "              precision    recall  f1-score   support\n",
      "\n",
      "           0       0.96      0.88      0.92        59\n",
      "           1       0.92      0.98      0.95        87\n",
      "\n",
      "    accuracy                           0.94       146\n",
      "   macro avg       0.94      0.93      0.94       146\n",
      "weighted avg       0.94      0.94      0.94       146\n",
      "\n",
      "Accurancy Oranı : 0.9383561643835616\n",
      "SVC TRAIN score with  0.9948364888123924\n",
      "SVC TEST score with  0.9383561643835616\n",
      "\n",
      "Sensitivity: 0.9770114942528736\n",
      "Specificity: 0.8813559322033898\n",
      "[[52  7]\n",
      " [ 2 85]]\n"
     ]
    },
    {
     "data": {
      "image/png": "[encoded data removed]",
      "text/plain": [
       "<Figure size 432x288 with 2 Axes>"
      ]
     },
     "metadata": {
      "needs_background": "light"
     },
     "output_type": "display_data"
    }
   ],
   "source": [
    "svc=SVC(C=5,degree=2,gamma=0.06,kernel='rbf',probability=True,random_state=0)\n",
    "svc.fit(X_train,y_train)\n",
    "\n",
    "y_pred=svc.predict(X_test)\n",
    "\n",
    "y_proba=svc.predict_proba(X_test)\n",
    "false_positive_rate, true_positive_rate, thresholds = roc_curve(y_test,y_proba[:,1])\n",
    "roc_auc = auc(false_positive_rate, true_positive_rate)\n",
    "plot_roc_(false_positive_rate,true_positive_rate,roc_auc)\n",
    "\n",
    "from sklearn.metrics import r2_score,accuracy_score\n",
    "print(classification_report(y_test, y_pred))\n",
    "print('Accurancy Oranı :',accuracy_score(y_test, y_pred))\n",
    "print(\"SVC TRAIN score with \",format(svc.score(X_train, y_train)))\n",
    "print(\"SVC TEST score with \",format(svc.score(X_test, y_test)))\n",
    "print()\n",
    "# calculate sensitivity and specificity\n",
    "tn, fp, fn, tp = confusion_matrix(y_test, y_pred).ravel()\n",
    "sensitivity = tp / (tp + fn)\n",
    "specificity = tn / (tn + fp)\n",
    "\n",
    "# print the results\n",
    "print(\"Sensitivity:\", sensitivity)\n",
    "print(\"Specificity:\", specificity)\n",
    "\n",
    "cm=confusion_matrix(y_test,y_pred)\n",
    "print(cm)\n",
    "sns.heatmap(cm,annot=True)\n",
    "plt.show()"
   ]
  },
  {
   "cell_type": "code",
   "execution_count": 71,
   "metadata": {
    "colab": {
     "base_uri": "https://localhost:8080/"
    },
    "id": "l7FCZVVXMr_R",
    "outputId": "81b9d086-d224-4e9a-8fee-2cb1712a6574"
   },
   "outputs": [
    {
     "name": "stdout",
     "output_type": "stream",
     "text": [
      "**************************************************\n",
      "Best parameters set:\n",
      "{'learning_rate': 0.02, 'n_estimators': 18, 'random_state': 0}\n",
      "**************************************************\n",
      "Train Classification Report:\n",
      "**************************************************\n",
      "              precision    recall  f1-score   support\n",
      "\n",
      "           0       0.92      0.54      0.68       211\n",
      "           1       0.79      0.97      0.87       370\n",
      "\n",
      "    accuracy                           0.81       581\n",
      "   macro avg       0.85      0.75      0.77       581\n",
      "weighted avg       0.83      0.81      0.80       581\n",
      "\n",
      "**************************************************\n",
      "Train Confusion Matrix:\n",
      "[[113  98]\n",
      " [ 10 360]]\n",
      "**************************************************\n",
      "Test1 Classification Report:\n",
      "**************************************************\n",
      "              precision    recall  f1-score   support\n",
      "\n",
      "           0       0.92      0.41      0.56        59\n",
      "           1       0.71      0.98      0.82        87\n",
      "\n",
      "    accuracy                           0.75       146\n",
      "   macro avg       0.82      0.69      0.69       146\n",
      "weighted avg       0.80      0.75      0.72       146\n",
      "\n",
      "**************************************************\n",
      "Test1 Confusion Matrix:\n",
      "[[24 35]\n",
      " [ 2 85]]\n",
      "**************************************************\n",
      "**************************************************\n",
      "0.9121752479924421\n",
      "0.01987331420739667\n",
      "**************************************************\n",
      "**************************************************\n",
      "Best parameters set:\n",
      "{'learning_rate': 0.02, 'n_estimators': 19, 'random_state': 0}\n",
      "**************************************************\n",
      "Train Classification Report:\n",
      "**************************************************\n",
      "              precision    recall  f1-score   support\n",
      "\n",
      "           0       0.98      0.23      0.37       211\n",
      "           1       0.69      1.00      0.82       370\n",
      "\n",
      "    accuracy                           0.72       581\n",
      "   macro avg       0.84      0.61      0.59       581\n",
      "weighted avg       0.80      0.72      0.66       581\n",
      "\n",
      "**************************************************\n",
      "Train Confusion Matrix:\n",
      "[[ 48 163]\n",
      " [  1 369]]\n",
      "**************************************************\n",
      "Test1 Classification Report:\n",
      "**************************************************\n",
      "              precision    recall  f1-score   support\n",
      "\n",
      "           0       0.93      0.24      0.38        59\n",
      "           1       0.66      0.99      0.79        87\n",
      "\n",
      "    accuracy                           0.68       146\n",
      "   macro avg       0.79      0.61      0.58       146\n",
      "weighted avg       0.77      0.68      0.62       146\n",
      "\n",
      "**************************************************\n",
      "Test1 Confusion Matrix:\n",
      "[[14 45]\n",
      " [ 1 86]]\n",
      "**************************************************\n",
      "**************************************************\n",
      "0.9121870571563533\n",
      "0.017960926944363825\n",
      "**************************************************\n",
      "**************************************************\n",
      "Best parameters set:\n",
      "{'learning_rate': 0.02, 'n_estimators': 12, 'random_state': 0}\n",
      "**************************************************\n",
      "Train Classification Report:\n",
      "**************************************************\n",
      "              precision    recall  f1-score   support\n",
      "\n",
      "           0       0.00      0.00      0.00       211\n",
      "           1       0.64      1.00      0.78       370\n",
      "\n",
      "    accuracy                           0.64       581\n",
      "   macro avg       0.32      0.50      0.39       581\n",
      "weighted avg       0.41      0.64      0.50       581\n",
      "\n",
      "**************************************************\n",
      "Train Confusion Matrix:\n",
      "[[  0 211]\n",
      " [  0 370]]\n",
      "**************************************************\n",
      "Test1 Classification Report:\n",
      "**************************************************\n",
      "              precision    recall  f1-score   support\n",
      "\n",
      "           0       0.00      0.00      0.00        59\n",
      "           1       0.60      1.00      0.75        87\n",
      "\n",
      "    accuracy                           0.60       146\n",
      "   macro avg       0.30      0.50      0.37       146\n",
      "weighted avg       0.36      0.60      0.44       146\n",
      "\n",
      "**************************************************\n",
      "Test1 Confusion Matrix:\n",
      "[[ 0 59]\n",
      " [ 0 87]]\n",
      "**************************************************\n",
      "**************************************************\n"
     ]
    },
    {
     "name": "stderr",
     "output_type": "stream",
     "text": [
      "/usr/local/lib/python3.9/dist-packages/sklearn/metrics/_classification.py:1344: UndefinedMetricWarning: Precision and F-score are ill-defined and being set to 0.0 in labels with no predicted samples. Use `zero_division` parameter to control this behavior.\n",
      "  _warn_prf(average, modifier, msg_start, len(result))\n",
      "/usr/local/lib/python3.9/dist-packages/sklearn/metrics/_classification.py:1344: UndefinedMetricWarning: Precision and F-score are ill-defined and being set to 0.0 in labels with no predicted samples. Use `zero_division` parameter to control this behavior.\n",
      "  _warn_prf(average, modifier, msg_start, len(result))\n",
      "/usr/local/lib/python3.9/dist-packages/sklearn/metrics/_classification.py:1344: UndefinedMetricWarning: Precision and F-score are ill-defined and being set to 0.0 in labels with no predicted samples. Use `zero_division` parameter to control this behavior.\n",
      "  _warn_prf(average, modifier, msg_start, len(result))\n",
      "/usr/local/lib/python3.9/dist-packages/sklearn/metrics/_classification.py:1344: UndefinedMetricWarning: Precision and F-score are ill-defined and being set to 0.0 in labels with no predicted samples. Use `zero_division` parameter to control this behavior.\n",
      "  _warn_prf(average, modifier, msg_start, len(result))\n",
      "/usr/local/lib/python3.9/dist-packages/sklearn/metrics/_classification.py:1344: UndefinedMetricWarning: Precision and F-score are ill-defined and being set to 0.0 in labels with no predicted samples. Use `zero_division` parameter to control this behavior.\n",
      "  _warn_prf(average, modifier, msg_start, len(result))\n",
      "/usr/local/lib/python3.9/dist-packages/sklearn/metrics/_classification.py:1344: UndefinedMetricWarning: Precision and F-score are ill-defined and being set to 0.0 in labels with no predicted samples. Use `zero_division` parameter to control this behavior.\n",
      "  _warn_prf(average, modifier, msg_start, len(result))\n"
     ]
    },
    {
     "name": "stdout",
     "output_type": "stream",
     "text": [
      "0.9121870571563533\n",
      "0.017960926944363825\n",
      "**************************************************\n",
      "**************************************************\n",
      "Best parameters set:\n",
      "{'learning_rate': 0.01, 'n_estimators': 3, 'random_state': 0}\n",
      "**************************************************\n",
      "Train Classification Report:\n",
      "**************************************************\n",
      "              precision    recall  f1-score   support\n",
      "\n",
      "           0       0.00      0.00      0.00       211\n",
      "           1       0.64      1.00      0.78       370\n",
      "\n",
      "    accuracy                           0.64       581\n",
      "   macro avg       0.32      0.50      0.39       581\n",
      "weighted avg       0.41      0.64      0.50       581\n",
      "\n",
      "**************************************************\n",
      "Train Confusion Matrix:\n",
      "[[  0 211]\n",
      " [  0 370]]\n",
      "**************************************************\n",
      "Test1 Classification Report:\n",
      "**************************************************\n",
      "              precision    recall  f1-score   support\n",
      "\n",
      "           0       0.00      0.00      0.00        59\n",
      "           1       0.60      1.00      0.75        87\n",
      "\n",
      "    accuracy                           0.60       146\n",
      "   macro avg       0.30      0.50      0.37       146\n",
      "weighted avg       0.36      0.60      0.44       146\n",
      "\n",
      "**************************************************\n",
      "Test1 Confusion Matrix:\n",
      "[[ 0 59]\n",
      " [ 0 87]]\n",
      "**************************************************\n",
      "**************************************************\n"
     ]
    },
    {
     "name": "stderr",
     "output_type": "stream",
     "text": [
      "/usr/local/lib/python3.9/dist-packages/sklearn/metrics/_classification.py:1344: UndefinedMetricWarning: Precision and F-score are ill-defined and being set to 0.0 in labels with no predicted samples. Use `zero_division` parameter to control this behavior.\n",
      "  _warn_prf(average, modifier, msg_start, len(result))\n",
      "/usr/local/lib/python3.9/dist-packages/sklearn/metrics/_classification.py:1344: UndefinedMetricWarning: Precision and F-score are ill-defined and being set to 0.0 in labels with no predicted samples. Use `zero_division` parameter to control this behavior.\n",
      "  _warn_prf(average, modifier, msg_start, len(result))\n",
      "/usr/local/lib/python3.9/dist-packages/sklearn/metrics/_classification.py:1344: UndefinedMetricWarning: Precision and F-score are ill-defined and being set to 0.0 in labels with no predicted samples. Use `zero_division` parameter to control this behavior.\n",
      "  _warn_prf(average, modifier, msg_start, len(result))\n",
      "/usr/local/lib/python3.9/dist-packages/sklearn/metrics/_classification.py:1344: UndefinedMetricWarning: Precision and F-score are ill-defined and being set to 0.0 in labels with no predicted samples. Use `zero_division` parameter to control this behavior.\n",
      "  _warn_prf(average, modifier, msg_start, len(result))\n",
      "/usr/local/lib/python3.9/dist-packages/sklearn/metrics/_classification.py:1344: UndefinedMetricWarning: Precision and F-score are ill-defined and being set to 0.0 in labels with no predicted samples. Use `zero_division` parameter to control this behavior.\n",
      "  _warn_prf(average, modifier, msg_start, len(result))\n",
      "/usr/local/lib/python3.9/dist-packages/sklearn/metrics/_classification.py:1344: UndefinedMetricWarning: Precision and F-score are ill-defined and being set to 0.0 in labels with no predicted samples. Use `zero_division` parameter to control this behavior.\n",
      "  _warn_prf(average, modifier, msg_start, len(result))\n"
     ]
    },
    {
     "name": "stdout",
     "output_type": "stream",
     "text": [
      "0.9138993859234765\n",
      "0.0199387757371748\n",
      "**************************************************\n"
     ]
    }
   ],
   "source": [
    "parameters = [\n",
    "{\n",
    "    'learning_rate': [0.01, 0.02, 0.002],\n",
    "    'random_state': [0],\n",
    "    'n_estimators': np.arange(3, 20)\n",
    "    },\n",
    "]\n",
    "for features in combine_features_list:\n",
    "    print(\"*\"*50)\n",
    "    X_train_set=X_train.loc[:,features]\n",
    "    X_test1_set=X_test.loc[:,features]\n",
    "   \n",
    "    gbc = GridSearchCV(GradientBoostingClassifier(), parameters, scoring='accuracy')\n",
    "    gbc.fit(X_train_set, y_train)\n",
    "    print('Best parameters set:')\n",
    "    print(gbc.best_params_)\n",
    "    print(\"*\"*50)\n",
    "    predictions = [\n",
    "    (gbc.predict(X_train_set), y_train, 'Train'),\n",
    "    (gbc.predict(X_test1_set), y_test, 'Test1')\n",
    "    ]\n",
    "    for pred in predictions:\n",
    "        print(pred[2] + ' Classification Report:')\n",
    "        print(\"*\"*50)\n",
    "        print(classification_report(pred[1], pred[0]))\n",
    "        print(\"*\"*50)\n",
    "        print(pred[2] + ' Confusion Matrix:')\n",
    "        print(confusion_matrix(pred[1], pred[0]))\n",
    "        print(\"*\"*50)\n",
    "        \n",
    "    print(\"*\"*50)    \n",
    "    basari=cross_val_score(estimator=GradientBoostingClassifier(),X=X_train,y=y_train,cv=4)\n",
    "    print(basari.mean())\n",
    "    print(basari.std())\n",
    "    print(\"*\"*50)"
   ]
  },
  {
   "cell_type": "code",
   "execution_count": 74,
   "metadata": {
    "colab": {
     "base_uri": "https://localhost:8080/",
     "height": 887
    },
    "id": "oTJxur9JM-3P",
    "outputId": "834ced0c-a3d3-483e-dffe-5c522df2184a"
   },
   "outputs": [
    {
     "data": {
      "image/png": "[encoded data removed]",
      "text/plain": [
       "<Figure size 360x360 with 1 Axes>"
      ]
     },
     "metadata": {
      "needs_background": "light"
     },
     "output_type": "display_data"
    },
    {
     "name": "stdout",
     "output_type": "stream",
     "text": [
      "              precision    recall  f1-score   support\n",
      "\n",
      "           0       0.96      0.41      0.57        59\n",
      "           1       0.71      0.99      0.83        87\n",
      "\n",
      "    accuracy                           0.75       146\n",
      "   macro avg       0.84      0.70      0.70       146\n",
      "weighted avg       0.81      0.75      0.72       146\n",
      "\n",
      "Accurancy Oranı : 0.7534246575342466\n",
      "GradientBoostingClassifier TRAIN score with  0.8158347676419966\n",
      "GradientBoostingClassifier TEST score with  0.7534246575342466\n",
      "\n",
      "Sensitivity: 0.9885057471264368\n",
      "Specificity: 0.4067796610169492\n",
      "[[24 35]\n",
      " [ 1 86]]\n"
     ]
    },
    {
     "data": {
      "image/png": "[encoded data removed]",
      "text/plain": [
       "<Figure size 432x288 with 2 Axes>"
      ]
     },
     "metadata": {
      "needs_background": "light"
     },
     "output_type": "display_data"
    }
   ],
   "source": [
    "gbc=GradientBoostingClassifier(learning_rate=0.02,n_estimators=18,random_state=0)\n",
    "gbc.fit(X_train,y_train)\n",
    "\n",
    "y_pred=gbc.predict(X_test)\n",
    "\n",
    "y_proba=gbc.predict_proba(X_test)\n",
    "false_positive_rate, true_positive_rate, thresholds = roc_curve(y_test,y_proba[:,1])\n",
    "roc_auc = auc(false_positive_rate, true_positive_rate)\n",
    "plot_roc_(false_positive_rate,true_positive_rate,roc_auc)\n",
    "\n",
    "from sklearn.metrics import r2_score,accuracy_score\n",
    "print(classification_report(y_test, y_pred))\n",
    "print('Accurancy Oranı :',accuracy_score(y_test, y_pred))\n",
    "print(\"GradientBoostingClassifier TRAIN score with \",format(gbc.score(X_train, y_train)))\n",
    "print(\"GradientBoostingClassifier TEST score with \",format(gbc.score(X_test, y_test)))\n",
    "print()\n",
    "# calculate sensitivity and specificity\n",
    "tn, fp, fn, tp = confusion_matrix(y_test, y_pred).ravel()\n",
    "sensitivity = tp / (tp + fn)\n",
    "specificity = tn / (tn + fp)\n",
    "\n",
    "# print the results\n",
    "print(\"Sensitivity:\", sensitivity)\n",
    "print(\"Specificity:\", specificity)\n",
    "cm=confusion_matrix(y_test,y_pred)\n",
    "print(cm)\n",
    "sns.heatmap(cm,annot=True)\n",
    "plt.show()"
   ]
  },
  {
   "cell_type": "code",
   "execution_count": 80,
   "metadata": {
    "colab": {
     "base_uri": "https://localhost:8080/",
     "height": 904
    },
    "id": "s25Cuzu4Y7ha",
    "outputId": "84f776b3-1fcc-4c05-9f6d-1f9a021e0825"
   },
   "outputs": [
    {
     "name": "stdout",
     "output_type": "stream",
     "text": [
      "Default Validation Accuracy: 0.8984674329501916\n",
      "Tuned Validation Accuracy: 0.9087975243147657\n",
      "Selected Hyperparameters: {'max_depth': 15, 'min_samples_leaf': 1, 'min_samples_split': 5, 'n_estimators': 300}\n",
      "Final Accuracy: 0.8972602739726028\n",
      "              precision    recall  f1-score   support\n",
      "\n",
      "           0       0.94      0.80      0.86        59\n",
      "           1       0.88      0.97      0.92        87\n",
      "\n",
      "    accuracy                           0.90       146\n",
      "   macro avg       0.91      0.88      0.89       146\n",
      "weighted avg       0.90      0.90      0.90       146\n",
      "\n",
      "\n",
      "Sensitivity: 0.9655172413793104\n",
      "Specificity: 0.7966101694915254\n",
      "[[47 12]\n",
      " [ 3 84]]\n"
     ]
    },
    {
     "data": {
      "image/png": "[encoded data removed]",
      "text/plain": [
       "<Figure size 432x288 with 2 Axes>"
      ]
     },
     "metadata": {
      "needs_background": "light"
     },
     "output_type": "display_data"
    },
    {
     "data": {
      "image/png": "[encoded data removed]",
      "text/plain": [
       "<Figure size 360x360 with 1 Axes>"
      ]
     },
     "metadata": {
      "needs_background": "light"
     },
     "output_type": "display_data"
    }
   ],
   "source": [
    "import pandas as pd\n",
    "from sklearn.ensemble import RandomForestClassifier\n",
    "from sklearn.model_selection import cross_val_score, GridSearchCV\n",
    "from sklearn.metrics import accuracy_score\n",
    "\n",
    "\n",
    "# Scale the data\n",
    "scaler = StandardScaler()\n",
    "X_train = scaler.fit_transform(X_train)\n",
    "X_test = scaler.transform(X_test)\n",
    "# Create a random forest classifier\n",
    "rfc = RandomForestClassifier(random_state=42)\n",
    "\n",
    "# Perform 5-fold cross-validation with the default hyperparameters\n",
    "default_scores = cross_val_score(rfc, X_train, y_train, cv=5)\n",
    "\n",
    "# Print the default validation accuracy\n",
    "print(\"Default Validation Accuracy:\", default_scores.mean())\n",
    "\n",
    "\n",
    "# Define the hyperparameters to tune\n",
    "params = {'n_estimators': [100, 200, 300],\n",
    "          'max_depth': [5, 10, 15],\n",
    "          'min_samples_split': [2, 5, 10],\n",
    "          'min_samples_leaf': [1, 2, 4]}\n",
    "\n",
    "# Create a grid search object with 5-fold cross-validation\n",
    "grid_search = GridSearchCV(estimator=rfc, param_grid=params, cv=5)\n",
    "\n",
    "# Fit the grid search object to the data\n",
    "grid_search.fit(X_train, y_train)\n",
    "\n",
    "# Print the tuned validation accuracy and selected hyperparameters\n",
    "print(\"Tuned Validation Accuracy:\", grid_search.best_score_)\n",
    "print(\"Selected Hyperparameters:\", grid_search.best_params_)\n",
    "\n",
    "# Train the random forest model with the selected hyperparameters\n",
    "rfc = RandomForestClassifier(**grid_search.best_params_, random_state=42)\n",
    "rfc.fit(X_train, y_train)\n",
    "# Calculate the final accuracy on the full dataset\n",
    "y_pred = rfc.predict(X_test)\n",
    "final_accuracy = accuracy_score(y_test, y_pred)\n",
    "\n",
    "# Print the final accuracy\n",
    "print(\"Final Accuracy:\", final_accuracy)\n",
    "print(classification_report(y_test, y_pred))\n",
    "\n",
    "\n",
    "\n",
    "cm=confusion_matrix(y_test,y_pred)\n",
    "print(cm)\n",
    "sns.heatmap(cm,annot=True)\n",
    "plt.show()\n",
    "\n",
    "y_pred=rfc.predict(X_test)\n",
    "\n",
    "y_proba=rfc.predict_proba(X_test)\n",
    "false_positive_rate, true_positive_rate, thresholds = roc_curve(y_test,y_proba[:,1])\n",
    "roc_auc = auc(false_positive_rate, true_positive_rate)\n",
    "plot_roc_(false_positive_rate,true_positive_rate,roc_auc)\n",
    "print()\n",
    "# calculate sensitivity and specificity\n",
    "tn, fp, fn, tp = confusion_matrix(y_test, y_pred).ravel()\n",
    "sensitivity = tp / (tp + fn)\n",
    "specificity = tn / (tn + fp)\n",
    "\n",
    "# print the results\n",
    "print(\"Sensitivity:\", sensitivity)\n",
    "print(\"Specificity:\", specificity)"
   ]
  },
  {
   "cell_type": "code",
   "execution_count": 81,
   "metadata": {
    "colab": {
     "base_uri": "https://localhost:8080/",
     "height": 1000
    },
    "id": "BdvDge4XNb70",
    "outputId": "3278dd2d-3b02-44a6-c37f-859d35348849"
   },
   "outputs": [
    {
     "name": "stdout",
     "output_type": "stream",
     "text": [
      "SVM:\n",
      "              precision    recall  f1-score   support\n",
      "\n",
      "           0       0.95      0.90      0.92        59\n",
      "           1       0.93      0.97      0.95        87\n",
      "\n",
      "    accuracy                           0.94       146\n",
      "   macro avg       0.94      0.93      0.94       146\n",
      "weighted avg       0.94      0.94      0.94       146\n",
      "\n",
      "Default Accuracy: 0.9452054794520548\n",
      "Tuned Accuracy: 0.9383561643835616\n",
      "Selected Hyperparameters: {'C': 10, 'break_ties': False, 'cache_size': 200, 'class_weight': None, 'coef0': 0.0, 'decision_function_shape': 'ovr', 'degree': 3, 'gamma': 0.1, 'kernel': 'rbf', 'max_iter': -1, 'probability': True, 'random_state': None, 'shrinking': True, 'tol': 0.001, 'verbose': False}\n",
      "Confusion Matrix: [[53  6]\n",
      " [ 3 84]]\n"
     ]
    },
    {
     "name": "stderr",
     "output_type": "stream",
     "text": [
      "/usr/local/lib/python3.9/dist-packages/sklearn/utils/validation.py:1143: DataConversionWarning: A column-vector y was passed when a 1d array was expected. Please change the shape of y to (n_samples, ), for example using ravel().\n",
      "  y = column_or_1d(y, warn=True)\n"
     ]
    },
    {
     "data": {
      "image/png": "[encoded data removed]",
      "text/plain": [
       "<Figure size 432x288 with 2 Axes>"
      ]
     },
     "metadata": {
      "needs_background": "light"
     },
     "output_type": "display_data"
    },
    {
     "name": "stdout",
     "output_type": "stream",
     "text": [
      "KNN:\n",
      "              precision    recall  f1-score   support\n",
      "\n",
      "           0       0.80      0.68      0.73        59\n",
      "           1       0.80      0.89      0.84        87\n",
      "\n",
      "    accuracy                           0.80       146\n",
      "   macro avg       0.80      0.78      0.79       146\n",
      "weighted avg       0.80      0.80      0.80       146\n",
      "\n",
      "Default Accuracy: 0.8424657534246576\n",
      "Tuned Accuracy: 0.8013698630136986\n",
      "Selected Hyperparameters: {'algorithm': 'auto', 'leaf_size': 30, 'metric': 'minkowski', 'metric_params': None, 'n_jobs': None, 'n_neighbors': 9, 'p': 2, 'weights': 'distance'}\n",
      "Confusion Matrix: [[40 19]\n",
      " [10 77]]\n"
     ]
    },
    {
     "name": "stderr",
     "output_type": "stream",
     "text": [
      "/usr/local/lib/python3.9/dist-packages/sklearn/neighbors/_classification.py:215: DataConversionWarning: A column-vector y was passed when a 1d array was expected. Please change the shape of y to (n_samples,), for example using ravel().\n",
      "  return self._fit(X, y)\n"
     ]
    },
    {
     "data": {
      "image/png": "[encoded data removed]",
      "text/plain": [
       "<Figure size 432x288 with 2 Axes>"
      ]
     },
     "metadata": {
      "needs_background": "light"
     },
     "output_type": "display_data"
    },
    {
     "name": "stdout",
     "output_type": "stream",
     "text": [
      "Ensemble:\n",
      "              precision    recall  f1-score   support\n",
      "\n",
      "           0       0.90      0.88      0.89        59\n",
      "           1       0.92      0.93      0.93        87\n",
      "\n",
      "    accuracy                           0.91       146\n",
      "   macro avg       0.91      0.91      0.91       146\n",
      "weighted avg       0.91      0.91      0.91       146\n",
      "\n",
      "Default Accuracy: 0.910958904109589\n",
      "Final Accuracy: 0.910958904109589\n",
      "Selected Hyperparameters: {'estimators': [('svm', SVC(C=10, gamma=0.1, probability=True)), ('knn', KNeighborsClassifier(n_neighbors=9, weights='distance'))], 'flatten_transform': True, 'n_jobs': None, 'verbose': False, 'voting': 'soft', 'weights': None, 'svm': SVC(C=10, gamma=0.1, probability=True), 'knn': KNeighborsClassifier(n_neighbors=9, weights='distance'), 'svm__C': 10, 'svm__break_ties': False, 'svm__cache_size': 200, 'svm__class_weight': None, 'svm__coef0': 0.0, 'svm__decision_function_shape': 'ovr', 'svm__degree': 3, 'svm__gamma': 0.1, 'svm__kernel': 'rbf', 'svm__max_iter': -1, 'svm__probability': True, 'svm__random_state': None, 'svm__shrinking': True, 'svm__tol': 0.001, 'svm__verbose': False, 'knn__algorithm': 'auto', 'knn__leaf_size': 30, 'knn__metric': 'minkowski', 'knn__metric_params': None, 'knn__n_jobs': None, 'knn__n_neighbors': 9, 'knn__p': 2, 'knn__weights': 'distance'}\n",
      "Confusion Matrix: [[52  7]\n",
      " [ 6 81]]\n"
     ]
    },
    {
     "data": {
      "image/png": "[encoded data removed]",
      "text/plain": [
       "<Figure size 432x288 with 2 Axes>"
      ]
     },
     "metadata": {
      "needs_background": "light"
     },
     "output_type": "display_data"
    },
    {
     "data": {
      "image/png": "[encoded data removed]",
      "text/plain": [
       "<Figure size 432x288 with 1 Axes>"
      ]
     },
     "metadata": {
      "needs_background": "light"
     },
     "output_type": "display_data"
    },
    {
     "name": "stdout",
     "output_type": "stream",
     "text": [
      "Sensitivity: 0.9310344827586207\n",
      "Specificity: 0.8813559322033898\n"
     ]
    }
   ],
   "source": [
    "import numpy as np\n",
    "import pandas as pd\n",
    "from sklearn.model_selection import train_test_split, GridSearchCV\n",
    "from sklearn.preprocessing import StandardScaler\n",
    "from sklearn.metrics import accuracy_score, confusion_matrix, classification_report, roc_curve, auc\n",
    "from sklearn.ensemble import VotingClassifier\n",
    "from sklearn.svm import SVC\n",
    "from sklearn.neighbors import KNeighborsClassifier\n",
    "import matplotlib.pyplot as plt\n",
    "\n",
    "\n",
    "# Scale the data\n",
    "scaler = StandardScaler()\n",
    "X_train = scaler.fit_transform(X_train)\n",
    "X_test = scaler.transform(X_test)\n",
    "\n",
    "# SVM with grid search for hyperparameters\n",
    "svm = SVC(probability=True)\n",
    "param_grid = {'C': [0.1, 1, 10], 'gamma': [0.1, 1, 10], 'kernel': ['rbf', 'linear']}\n",
    "grid = GridSearchCV(svm, param_grid, cv=5)\n",
    "grid.fit(X_train, y_train)\n",
    "svm_best = grid.best_estimator_\n",
    "\n",
    "# KNN with grid search for hyperparameters\n",
    "knn = KNeighborsClassifier()\n",
    "param_grid = {'n_neighbors': [3, 5, 7, 9], 'weights': ['uniform', 'distance']}\n",
    "grid = GridSearchCV(knn, param_grid, cv=5)\n",
    "grid.fit(X_train, y_train)\n",
    "knn_best = grid.best_estimator_\n",
    "\n",
    "# Combine the models using Voting\n",
    "ensemble = VotingClassifier(estimators=[('svm', svm_best), ('knn', knn_best)], voting='soft')\n",
    "ensemble.fit(X_train, y_train)\n",
    "\n",
    "# Predict on the validation set and evaluate the performance\n",
    "print('SVM:')\n",
    "y_pred = svm_best.predict(X_test)\n",
    "print(classification_report(y_test, y_pred))\n",
    "svm.fit(X_test,y_test)\n",
    "print('Default Accuracy:', svm.score(X_test, y_test))\n",
    "print('Tuned Accuracy:', accuracy_score(y_test, y_pred))\n",
    "print('Selected Hyperparameters:', svm_best.get_params())\n",
    "print('Confusion Matrix:', confusion_matrix(y_test, y_pred))\n",
    "cm=confusion_matrix(y_test,y_pred)\n",
    "sns.heatmap(cm,annot=True)\n",
    "plt.show()\n",
    "\n",
    "print('KNN:')\n",
    "y_pred = knn_best.predict(X_test)\n",
    "print(classification_report(y_test, y_pred))\n",
    "knn.fit(X_test,y_test)\n",
    "\n",
    "print('Default Accuracy:', knn.score(X_test, y_test))\n",
    "print('Tuned Accuracy:', accuracy_score(y_test, y_pred))\n",
    "print('Selected Hyperparameters:', knn_best.get_params())\n",
    "print('Confusion Matrix:', confusion_matrix(y_test, y_pred))\n",
    "cm=confusion_matrix(y_test,y_pred)\n",
    "sns.heatmap(cm,annot=True)\n",
    "plt.show()\n",
    "\n",
    "print('Ensemble:')\n",
    "y_pred = ensemble.predict(X_test)\n",
    "print(classification_report(y_test, y_pred))\n",
    "print('Default Accuracy:', ensemble.score(X_test, y_test))\n",
    "print('Final Accuracy:', accuracy_score(y_test, y_pred))\n",
    "print('Selected Hyperparameters:', ensemble.get_params())\n",
    "print('Confusion Matrix:', confusion_matrix(y_test, y_pred))\n",
    "cm=confusion_matrix(y_test,y_pred)\n",
    "sns.heatmap(cm,annot=True)\n",
    "plt.show()\n",
    "\n",
    "# Plot the ROC curve and calculate AUC\n",
    "from sklearn.metrics import roc_auc_score\n",
    "y_test_pred_proba = ensemble.predict_proba(X_test)[:, 1]\n",
    "fpr, tpr, thresholds = roc_curve(y_test, y_test_pred_proba)\n",
    "auc = roc_auc_score(y_test, y_test_pred_proba)\n",
    "\n",
    "plt.figure()\n",
    "plt.plot(fpr, tpr, label=\"Ensemble (AUC = {:.3f})\".format(auc))\n",
    "plt.plot([0, 1], [0, 1], 'k--')\n",
    "plt.xlim([0, 1])\n",
    "plt.ylim([0, 1.05])\n",
    "plt.xlabel(\"False Positive Rate\")\n",
    "plt.ylabel(\"True Positive Rate\")\n",
    "plt.title(\"ROC Curve\")\n",
    "plt.legend(loc=\"lower right\")\n",
    "plt.show()\n",
    "\n",
    "# calculate sensitivity and specificity\n",
    "tn, fp, fn, tp = confusion_matrix(y_test, y_pred).ravel()\n",
    "sensitivity = tp / (tp + fn)\n",
    "specificity = tn / (tn + fp)\n",
    "\n",
    "# print the results\n",
    "print(\"Sensitivity:\", sensitivity)\n",
    "print(\"Specificity:\", specificity)\n",
    "\n",
    "\n",
    "\n"
   ]
  },
  {
   "cell_type": "code",
   "execution_count": 82,
   "metadata": {
    "colab": {
     "base_uri": "https://localhost:8080/",
     "height": 1000
    },
    "id": "97BmHDFhY53b",
    "outputId": "3dbb3596-0347-4d97-eb47-2bd6f9d215ef"
   },
   "outputs": [
    {
     "name": "stdout",
     "output_type": "stream",
     "text": [
      "SVM:\n",
      "              precision    recall  f1-score   support\n",
      "\n",
      "           0       0.95      0.90      0.92        59\n",
      "           1       0.93      0.97      0.95        87\n",
      "\n",
      "    accuracy                           0.94       146\n",
      "   macro avg       0.94      0.93      0.94       146\n",
      "weighted avg       0.94      0.94      0.94       146\n",
      "\n",
      "Default Accuracy: 0.9452054794520548\n",
      "Tuned Accuracy: 0.9383561643835616\n",
      "Selected Hyperparameters: {'C': 10, 'break_ties': False, 'cache_size': 200, 'class_weight': None, 'coef0': 0.0, 'decision_function_shape': 'ovr', 'degree': 3, 'gamma': 0.1, 'kernel': 'rbf', 'max_iter': -1, 'probability': True, 'random_state': None, 'shrinking': True, 'tol': 0.001, 'verbose': False}\n",
      "Confusion Matrix: [[53  6]\n",
      " [ 3 84]]\n"
     ]
    },
    {
     "name": "stderr",
     "output_type": "stream",
     "text": [
      "/usr/local/lib/python3.9/dist-packages/sklearn/utils/validation.py:1143: DataConversionWarning: A column-vector y was passed when a 1d array was expected. Please change the shape of y to (n_samples, ), for example using ravel().\n",
      "  y = column_or_1d(y, warn=True)\n"
     ]
    },
    {
     "data": {
      "image/png": "[encoded data removed]",
      "text/plain": [
       "<Figure size 432x288 with 2 Axes>"
      ]
     },
     "metadata": {
      "needs_background": "light"
     },
     "output_type": "display_data"
    },
    {
     "name": "stdout",
     "output_type": "stream",
     "text": [
      "RFC:\n",
      "              precision    recall  f1-score   support\n",
      "\n",
      "           0       0.94      0.80      0.86        59\n",
      "           1       0.88      0.97      0.92        87\n",
      "\n",
      "    accuracy                           0.90       146\n",
      "   macro avg       0.91      0.88      0.89       146\n",
      "weighted avg       0.90      0.90      0.90       146\n",
      "\n"
     ]
    },
    {
     "name": "stderr",
     "output_type": "stream",
     "text": [
      "<ipython-input-82-3f9d6c2452c3>:81: DataConversionWarning: A column-vector y was passed when a 1d array was expected. Please change the shape of y to (n_samples,), for example using ravel().\n",
      "  rfc.fit(X_test,y_test)\n"
     ]
    },
    {
     "name": "stdout",
     "output_type": "stream",
     "text": [
      "Default Validation Accuracy: 0.8984674329501916\n",
      "Tuned Validation Accuracy: 0.9087975243147657\n",
      "Selected Hyperparameters: {'max_depth': 15, 'min_samples_leaf': 1, 'min_samples_split': 5, 'n_estimators': 300}\n",
      "Confusion Matrix: [[47 12]\n",
      " [ 3 84]]\n"
     ]
    },
    {
     "data": {
      "image/png": "[encoded data removed]",
      "text/plain": [
       "<Figure size 432x288 with 2 Axes>"
      ]
     },
     "metadata": {
      "needs_background": "light"
     },
     "output_type": "display_data"
    },
    {
     "name": "stdout",
     "output_type": "stream",
     "text": [
      "Ensemble:\n",
      "              precision    recall  f1-score   support\n",
      "\n",
      "           0       0.96      0.88      0.92        59\n",
      "           1       0.92      0.98      0.95        87\n",
      "\n",
      "    accuracy                           0.94       146\n",
      "   macro avg       0.94      0.93      0.94       146\n",
      "weighted avg       0.94      0.94      0.94       146\n",
      "\n",
      "Default Accuracy: 0.9383561643835616\n",
      "Final Accuracy: 0.9383561643835616\n",
      "Selected Hyperparameters: {'estimators': [('svm', SVC(C=10, gamma=0.1, probability=True)), ('rfc', RandomForestClassifier(max_depth=15, min_samples_split=5, n_estimators=300,\n",
      "                       random_state=42))], 'flatten_transform': True, 'n_jobs': None, 'verbose': False, 'voting': 'soft', 'weights': None, 'svm': SVC(C=10, gamma=0.1, probability=True), 'rfc': RandomForestClassifier(max_depth=15, min_samples_split=5, n_estimators=300,\n",
      "                       random_state=42), 'svm__C': 10, 'svm__break_ties': False, 'svm__cache_size': 200, 'svm__class_weight': None, 'svm__coef0': 0.0, 'svm__decision_function_shape': 'ovr', 'svm__degree': 3, 'svm__gamma': 0.1, 'svm__kernel': 'rbf', 'svm__max_iter': -1, 'svm__probability': True, 'svm__random_state': None, 'svm__shrinking': True, 'svm__tol': 0.001, 'svm__verbose': False, 'rfc__bootstrap': True, 'rfc__ccp_alpha': 0.0, 'rfc__class_weight': None, 'rfc__criterion': 'gini', 'rfc__max_depth': 15, 'rfc__max_features': 'sqrt', 'rfc__max_leaf_nodes': None, 'rfc__max_samples': None, 'rfc__min_impurity_decrease': 0.0, 'rfc__min_samples_leaf': 1, 'rfc__min_samples_split': 5, 'rfc__min_weight_fraction_leaf': 0.0, 'rfc__n_estimators': 300, 'rfc__n_jobs': None, 'rfc__oob_score': False, 'rfc__random_state': 42, 'rfc__verbose': 0, 'rfc__warm_start': False}\n",
      "Confusion Matrix: [[52  7]\n",
      " [ 2 85]]\n"
     ]
    },
    {
     "data": {
      "image/png": "[encoded data removed]",
      "text/plain": [
       "<Figure size 432x288 with 2 Axes>"
      ]
     },
     "metadata": {
      "needs_background": "light"
     },
     "output_type": "display_data"
    },
    {
     "data": {
      "image/png": "[encoded data removed]",
      "text/plain": [
       "<Figure size 432x288 with 1 Axes>"
      ]
     },
     "metadata": {
      "needs_background": "light"
     },
     "output_type": "display_data"
    },
    {
     "name": "stdout",
     "output_type": "stream",
     "text": [
      "Sensitivity: 0.9770114942528736\n",
      "Specificity: 0.8813559322033898\n"
     ]
    }
   ],
   "source": [
    "import numpy as np\n",
    "import pandas as pd\n",
    "from sklearn.model_selection import train_test_split, GridSearchCV\n",
    "from sklearn.preprocessing import StandardScaler\n",
    "from sklearn.metrics import accuracy_score, confusion_matrix, classification_report, roc_curve, auc\n",
    "from sklearn.ensemble import VotingClassifier\n",
    "from sklearn.svm import SVC\n",
    "from sklearn.ensemble import RandomForestClassifier\n",
    "import matplotlib.pyplot as plt\n",
    "\n",
    "\n",
    "# Scale the data\n",
    "scaler = StandardScaler()\n",
    "X_train = scaler.fit_transform(X_train)\n",
    "X_test = scaler.transform(X_test)\n",
    "\n",
    "# SVM with grid search for hyperparameters\n",
    "svm = SVC(probability=True)\n",
    "param_grid = {'C': [0.1, 1, 10], 'gamma': [0.1, 1, 10], 'kernel': ['rbf', 'linear']}\n",
    "grid = GridSearchCV(svm, param_grid, cv=5)\n",
    "grid.fit(X_train, y_train)\n",
    "svm_best = grid.best_estimator_\n",
    "\n",
    "\n",
    "from sklearn.model_selection import cross_val_score, GridSearchCV\n",
    "\n",
    "\n",
    "\n",
    "# Create a random forest classifier\n",
    "rfc = RandomForestClassifier(random_state=42)\n",
    "\n",
    "# Perform 5-fold cross-validation with the default hyperparameters\n",
    "default_scores = cross_val_score(rfc, X_train, y_train, cv=5)\n",
    "\n",
    "\n",
    "\n",
    "# Define the hyperparameters to tune\n",
    "params = {'n_estimators': [100, 200, 300],\n",
    "          'max_depth': [5, 10, 15],\n",
    "          'min_samples_split': [2, 5, 10],\n",
    "          'min_samples_leaf': [1, 2, 4]}\n",
    "\n",
    "# Create a grid search object with 5-fold cross-validation\n",
    "grid_search = GridSearchCV(estimator=rfc, param_grid=params, cv=5)\n",
    "\n",
    "# Fit the grid search object to the data\n",
    "grid_search.fit(X_train, y_train)\n",
    "\n",
    "\n",
    "\n",
    "# Train the random forest model with the selected hyperparameters\n",
    "rfc = RandomForestClassifier(**grid_search.best_params_, random_state=42)\n",
    "rfc.fit(X_train, y_train)\n",
    "# Calculate the final accuracy on the full dataset\n",
    "y_pred = rfc.predict(X_test)\n",
    "final_accuracy = accuracy_score(y_test, y_pred)\n",
    "\n",
    "\n",
    "\n",
    "\n",
    "# Combine the models using Voting\n",
    "ensemble = VotingClassifier(estimators=[('svm', svm_best), ('rfc', rfc)], voting='soft')\n",
    "ensemble.fit(X_train, y_train)\n",
    "\n",
    "# Predict on the validation set and evaluate the performance\n",
    "print('SVM:')\n",
    "y_pred = svm_best.predict(X_test)\n",
    "print(classification_report(y_test, y_pred))\n",
    "svm.fit(X_test,y_test)\n",
    "print('Default Accuracy:', svm.score(X_test, y_test))\n",
    "print('Tuned Accuracy:', accuracy_score(y_test, y_pred))\n",
    "print('Selected Hyperparameters:', svm_best.get_params())\n",
    "print('Confusion Matrix:', confusion_matrix(y_test, y_pred))\n",
    "cm=confusion_matrix(y_test,y_pred)\n",
    "sns.heatmap(cm,annot=True)\n",
    "plt.show()\n",
    "\n",
    "print('RFC:')\n",
    "y_pred = rfc.predict(X_test)\n",
    "print(classification_report(y_test, y_pred))\n",
    "rfc.fit(X_test,y_test)\n",
    "\n",
    "print(\"Default Validation Accuracy:\", default_scores.mean())\n",
    "print(\"Tuned Validation Accuracy:\", grid_search.best_score_)\n",
    "print(\"Selected Hyperparameters:\", grid_search.best_params_)\n",
    "print('Confusion Matrix:', confusion_matrix(y_test, y_pred))\n",
    "cm=confusion_matrix(y_test,y_pred)\n",
    "sns.heatmap(cm,annot=True)\n",
    "plt.show()\n",
    "\n",
    "print('Ensemble:')\n",
    "y_pred = ensemble.predict(X_test)\n",
    "print(classification_report(y_test, y_pred))\n",
    "print('Default Accuracy:', ensemble.score(X_test, y_test))\n",
    "print('Final Accuracy:', accuracy_score(y_test, y_pred))\n",
    "print('Selected Hyperparameters:', ensemble.get_params())\n",
    "print('Confusion Matrix:', confusion_matrix(y_test, y_pred))\n",
    "cm=confusion_matrix(y_test,y_pred)\n",
    "sns.heatmap(cm,annot=True)\n",
    "plt.show()\n",
    "\n",
    "# Plot the ROC curve and calculate AUC\n",
    "from sklearn.metrics import roc_auc_score\n",
    "y_test_pred_proba = ensemble.predict_proba(X_test)[:, 1]\n",
    "fpr, tpr, thresholds = roc_curve(y_test, y_test_pred_proba)\n",
    "auc = roc_auc_score(y_test, y_test_pred_proba)\n",
    "\n",
    "plt.figure()\n",
    "plt.plot(fpr, tpr, label=\"Ensemble (AUC = {:.3f})\".format(auc))\n",
    "plt.plot([0, 1], [0, 1], 'k--')\n",
    "plt.xlim([0, 1])\n",
    "plt.ylim([0, 1.05])\n",
    "plt.xlabel(\"False Positive Rate\")\n",
    "plt.ylabel(\"True Positive Rate\")\n",
    "plt.title(\"ROC Curve\")\n",
    "plt.legend(loc=\"lower right\")\n",
    "plt.show()\n",
    "\n",
    "# calculate sensitivity and specificity\n",
    "tn, fp, fn, tp = confusion_matrix(y_test, y_pred).ravel()\n",
    "sensitivity = tp / (tp + fn)\n",
    "specificity = tn / (tn + fp)\n",
    "\n",
    "# print the results\n",
    "print(\"Sensitivity:\", sensitivity)\n",
    "print(\"Specificity:\", specificity)"
   ]
  },
  {
   "cell_type": "code",
   "execution_count": 83,
   "metadata": {
    "colab": {
     "base_uri": "https://localhost:8080/",
     "height": 404
    },
    "id": "yB98o4R6RJ05",
    "outputId": "72729de5-7838-488b-e192-6299b84404df"
   },
   "outputs": [
    {
     "data": {
      "image/png": "[encoded data removed]",
      "text/plain": [
       "<Figure size 864x432 with 1 Axes>"
      ]
     },
     "metadata": {
      "needs_background": "light"
     },
     "output_type": "display_data"
    }
   ],
   "source": [
    "import matplotlib.pyplot as plt\n",
    "\n",
    "# Define the models and their corresponding accuracies\n",
    "models = ['Logistic Regression ', 'KNN', 'SVM', 'GBC' ,'RFC' ,'voting CLassifier']\n",
    "accuracies = [0.842, 0.849, 0.93, 0.75, 0.89, 0.93]\n",
    "\n",
    "# Create a bar plot\n",
    "plt.bar(models, accuracies)\n",
    "\n",
    "# Add labels and title\n",
    "plt.xlabel('Models')\n",
    "plt.ylabel('Accuracy')\n",
    "plt.title('Accuracy of Machine Learning Models')\n",
    "\n",
    "# Enlarge the plot\n",
    "fig = plt.gcf()\n",
    "fig.set_size_inches(12, 6)  # Set the size of the figure\n",
    "\n",
    "\n",
    "# Display the plot\n",
    "plt.show()"
   ]
  },
  {
   "cell_type": "code",
   "execution_count": null,
   "metadata": {
    "id": "usNbii4xUZch"
   },
   "outputs": [],
   "source": [
    "\n",
    "\n",
    "\n"
   ]
  }
 ],
 "metadata": {
  "colab": {
   "provenance": []
  },
  "kernelspec": {
   "display_name": "Python 3",
   "language": "python",
   "name": "python3"
  },
  "language_info": {
   "codemirror_mode": {
    "name": "ipython",
    "version": 3
   },
   "file_extension": ".py",
   "mimetype": "text/x-python",
   "name": "python",
   "nbconvert_exporter": "python",
   "pygments_lexer": "ipython3",
   "version": "3.8.5"
  }
 },
 "nbformat": 4,
 "nbformat_minor": 1
}
